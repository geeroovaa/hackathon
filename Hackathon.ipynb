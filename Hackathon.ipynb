{
 "cells": [
  {
   "cell_type": "code",
   "execution_count": 8,
   "metadata": {},
   "outputs": [
    {
     "name": "stdout",
     "output_type": "stream",
     "text": [
      "Populating the interactive namespace from numpy and matplotlib\n"
     ]
    }
   ],
   "source": [
    "import pandas as pd\n",
    "import matplotlib.pyplot as pl\n",
    "import numpy as np\n",
    "%pylab inline"
   ]
  },
  {
   "cell_type": "code",
   "execution_count": 9,
   "metadata": {},
   "outputs": [],
   "source": [
    "df_18 = pd.read_csv('https://hack-datos.labcd.mx/explore/dataset/datos-axa-2018/download/?format=csv&timezone=America/New_York&use_labels_for_header=true', delimiter=';')"
   ]
  },
  {
   "cell_type": "code",
   "execution_count": 10,
   "metadata": {},
   "outputs": [],
   "source": [
    "df_17 = pd.read_csv('https://hack-datos.labcd.mx/explore/dataset/datos-axa-2017/download/?format=csv&timezone=America/New_York&use_labels_for_header=true', delimiter=';')"
   ]
  },
  {
   "cell_type": "code",
   "execution_count": 11,
   "metadata": {},
   "outputs": [],
   "source": [
    "df_16 = pd.read_csv('https://hack-datos.labcd.mx/explore/dataset/datos-axa-2016/download/?format=csv&timezone=America/New_York&use_labels_for_header=true', delimiter=';')"
   ]
  },
  {
   "cell_type": "code",
   "execution_count": 12,
   "metadata": {},
   "outputs": [],
   "source": [
    "df_15 = pd.read_csv('https://hack-datos.labcd.mx/explore/dataset/axa-2015/download/?format=csv&timezone=America/New_York&use_labels_for_header=true', delimiter=';')"
   ]
  },
  {
   "cell_type": "code",
   "execution_count": 13,
   "metadata": {},
   "outputs": [],
   "source": [
    "df_18.columns= ['the_geom', 'relation', 'the_geom_w',\n",
    "       'accident', 'latitud', 'longitud',\n",
    "       'zip_code', 'street', 'neighbourhood', 'cause',\n",
    "       'vehicle', 'color', 'model', 'damage_level',\n",
    "       'impact_on', 'year', 'month', 'day',\n",
    "       'day_of_week', 'time', 'state', 'city',\n",
    "       'injured', 'cartodb_id', 'age',\n",
    "       'gender', 'injury_level', 'hospitalized',\n",
    "       'dead', 'ambulance', 'tree', 'rock',\n",
    "       'sleeping', 'crane', 'infrastructure_works',\n",
    "       'pavement', 'explosion', 'rollover',\n",
    "       'loss', 'driver', 'escape',\n",
    "       'alcohol', 'motorbike', 'bike',\n",
    "       'insurance', 'taxi', 'animal', 'location']"
   ]
  },
  {
   "cell_type": "code",
   "execution_count": 14,
   "metadata": {},
   "outputs": [],
   "source": [
    "df_16.columns = ['the_geom', 'relation', 'the_geom_w', 'cause', 'accident',\n",
    "       'latitud', 'longitud',\n",
    "       'zip_code', 'street', 'neighbourhood',\n",
    "       'vehicle', 'color', 'model', 'damage_level',\n",
    "       'impact_on', 'year', 'month', 'day',\n",
    "       'day_of_week', 'time', 'state', 'city',\n",
    "       'injured', 'cartodb_id', 'age',\n",
    "       'gender', 'injury_level', 'hospitalized',\n",
    "       'dead', 'ambulance', 'tree', 'rock',\n",
    "       'sleeping', 'crane', 'infrastructure_works',\n",
    "       'pavement', 'explosion', 'rollover',\n",
    "       'loss', 'driver', 'escape',\n",
    "       'alcohol', 'motorbike', 'bike',\n",
    "       'insurance', 'taxi', 'animal', 'location']"
   ]
  },
  {
   "cell_type": "code",
   "execution_count": 15,
   "metadata": {},
   "outputs": [],
   "source": [
    "df_15 = df_15.drop('_feature_c,N,10,0', axis=1)"
   ]
  },
  {
   "cell_type": "code",
   "execution_count": 16,
   "metadata": {},
   "outputs": [],
   "source": [
    "df_15.columns = ['the_geom', 'relation', 'cause', 'the_geom_w', 'accident',\n",
    "       'latitud', 'longitud',\n",
    "       'zip_code', 'street', 'neighbourhood',\n",
    "       'vehicle', 'color', 'model', 'damage_level',\n",
    "       'impact_on', 'year', 'month', 'day',\n",
    "       'day_of_week', 'time', 'state', 'city',\n",
    "       'injured', 'cartodb_id', 'age',\n",
    "       'gender', 'injury_level', 'hospitalized',\n",
    "       'dead', 'ambulance', 'tree', 'rock',\n",
    "       'sleeping', 'crane', 'infrastructure_works',\n",
    "       'pavement', 'explosion', 'rollover',\n",
    "       'loss', 'driver', 'escape',\n",
    "       'alcohol', 'motorbike', 'bike',\n",
    "       'insurance', 'taxi', 'animal', 'location']"
   ]
  },
  {
   "cell_type": "code",
   "execution_count": 23,
   "metadata": {},
   "outputs": [],
   "source": [
    "df_17.columns = df_18.columns"
   ]
  },
  {
   "cell_type": "code",
   "execution_count": 24,
   "metadata": {},
   "outputs": [],
   "source": [
    "df = pd.concat([df_18, df_17, df_16, df_15], axis=0 ,sort=True)"
   ]
  },
  {
   "cell_type": "code",
   "execution_count": 34,
   "metadata": {},
   "outputs": [],
   "source": [
    "df = df.reset_index().drop('index',axis=1)"
   ]
  },
  {
   "cell_type": "code",
   "execution_count": 25,
   "metadata": {},
   "outputs": [],
   "source": [
    "df.damage_level = df.damage_level.replace(to_replace = 'Sin da??o', value = 'Sin daño')\n",
    "df.cause = df.cause.replace(to_replace = 'DA?æOS POR LA CARGA', value='DAÑOS POR LA CARGA')"
   ]
  },
  {
   "cell_type": "code",
   "execution_count": 37,
   "metadata": {},
   "outputs": [],
   "source": [
    "df.zip_code = df.zip_code.apply(lambda x: str(x))"
   ]
  },
  {
   "cell_type": "code",
   "execution_count": null,
   "metadata": {},
   "outputs": [
    {
     "name": "stderr",
     "output_type": "stream",
     "text": [
      "/anaconda3/lib/python3.6/site-packages/ipykernel_launcher.py:5: SettingWithCopyWarning: \n",
      "A value is trying to be set on a copy of a slice from a DataFrame\n",
      "\n",
      "See the caveats in the documentation: http://pandas.pydata.org/pandas-docs/stable/indexing.html#indexing-view-versus-copy\n",
      "  \"\"\"\n"
     ]
    }
   ],
   "source": [
    "for i in range(0, len(df)):\n",
    "    if '.' in df.zip_code[i]:\n",
    "        df.zip_code[i] = df.zip_code[i][:-2]\n",
    "    while len(df.zip_code[i])!=5:\n",
    "        df.zip_code[i] = '0' + df.zip_code[i]"
   ]
  },
  {
   "cell_type": "code",
   "execution_count": 27,
   "metadata": {},
   "outputs": [
    {
     "data": {
      "image/png": "[encoded data removed]",
      "text/plain": [
       "<Figure size 432x288 with 1 Axes>"
      ]
     },
     "metadata": {},
     "output_type": "display_data"
    }
   ],
   "source": [
    "pl.bar(df.groupby('damage_level').size().keys(),np.array(df.groupby('damage_level').size()));"
   ]
  },
  {
   "cell_type": "code",
   "execution_count": 28,
   "metadata": {},
   "outputs": [
    {
     "data": {
      "image/png": "[encoded data removed]",
      "text/plain": [
       "<Figure size 432x288 with 1 Axes>"
      ]
     },
     "metadata": {},
     "output_type": "display_data"
    }
   ],
   "source": [
    "pl.bar(df.groupby('cause').size().keys(),np.array(df.groupby('cause').size()))\n",
    "pl.xticks(rotation=270);"
   ]
  },
  {
   "cell_type": "code",
   "execution_count": null,
   "metadata": {},
   "outputs": [],
   "source": [
    "pl.bar(df.groupby('zip_code').size().keys(),np.array(df.groupby('zip_code').size()))\n",
    "pl.xticks(rotation=270);"
   ]
  },
  {
   "cell_type": "code",
   "execution_count": 42,
   "metadata": {},
   "outputs": [
    {
     "name": "stderr",
     "output_type": "stream",
     "text": [
      "/anaconda3/lib/python3.6/site-packages/ipykernel_launcher.py:1: SettingWithCopyWarning: \n",
      "A value is trying to be set on a copy of a slice from a DataFrame\n",
      "\n",
      "See the caveats in the documentation: http://pandas.pydata.org/pandas-docs/stable/indexing.html#indexing-view-versus-copy\n",
      "  \"\"\"Entry point for launching an IPython kernel.\n"
     ]
    }
   ],
   "source": [
    "df.zip_code[0] = '0'+df.zip_code[0][:-2]"
   ]
  },
  {
   "cell_type": "code",
   "execution_count": 61,
   "metadata": {},
   "outputs": [
    {
     "data": {
      "text/plain": [
       "'7650'"
      ]
     },
     "execution_count": 61,
     "metadata": {},
     "output_type": "execute_result"
    }
   ],
   "source": [
    "df.zip_code[150001]"
   ]
  },
  {
   "cell_type": "code",
   "execution_count": null,
   "metadata": {},
   "outputs": [],
   "source": []
  }
 ],
 "metadata": {
  "kernelspec": {
   "display_name": "Python 3",
   "language": "python",
   "name": "python3"
  },
  "language_info": {
   "codemirror_mode": {
    "name": "ipython",
    "version": 3
   },
   "file_extension": ".py",
   "mimetype": "text/x-python",
   "name": "python",
   "nbconvert_exporter": "python",
   "pygments_lexer": "ipython3",
   "version": "3.6.5"
  }
 },
 "nbformat": 4,
 "nbformat_minor": 2
}
