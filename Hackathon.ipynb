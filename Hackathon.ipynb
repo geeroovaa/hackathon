{
 "cells": [
  {
   "cell_type": "code",
   "execution_count": 3,
   "metadata": {},
   "outputs": [
    {
     "name": "stdout",
     "output_type": "stream",
     "text": [
      "Populating the interactive namespace from numpy and matplotlib\n"
     ]
    }
   ],
   "source": [
    "import pandas as pd\n",
    "import matplotlib.pyplot as pl\n",
    "import numpy as np\n",
    "import unicodedata\n",
    "from sklearn.model_selection import train_test_split\n",
    "%pylab inline"
   ]
  },
  {
   "cell_type": "code",
   "execution_count": 4,
   "metadata": {},
   "outputs": [],
   "source": [
    "df_pop = pd.read_csv('population.txt')"
   ]
  },
  {
   "cell_type": "markdown",
   "metadata": {},
   "source": [
    "df_atus_17 = pd.read_csv('atus_anual_2017.csv')\n",
    "df_atus_17 = df_atus_17[df_atus17.ID_ENTIDAD==9]\n",
    "df_atus_17 = df_atus_17.reset_index().drop('index',axis=1)"
   ]
  },
  {
   "cell_type": "markdown",
   "metadata": {},
   "source": [
    "df_atus_16 = pd.read_csv('atus_anual_2016.csv')\n",
    "df_atus_16 = df_atus_16[df_atus16.ID_ENTIDAD==9]\n",
    "df_atus_16 = df_atus_16.reset_index().drop('index',axis=1)"
   ]
  },
  {
   "cell_type": "markdown",
   "metadata": {},
   "source": [
    "df_atus_15 = pd.read_csv('atus_anual_2015.csv')\n",
    "df_atus_15 = df_atus_15[df_atus15.ID_ENTIDAD==9]\n",
    "df_atus_15 = df_atus_15.reset_index().drop('index',axis=1)"
   ]
  },
  {
   "cell_type": "code",
   "execution_count": 8,
   "metadata": {},
   "outputs": [],
   "source": [
    "df_18 = pd.read_csv('datos2018.csv', delimiter=';')"
   ]
  },
  {
   "cell_type": "code",
   "execution_count": 9,
   "metadata": {},
   "outputs": [],
   "source": [
    "df_17 = pd.read_csv('datos2017.csv', delimiter=';')"
   ]
  },
  {
   "cell_type": "code",
   "execution_count": 10,
   "metadata": {},
   "outputs": [],
   "source": [
    "df_16 = pd.read_csv('datos2016.csv', delimiter=';')"
   ]
  },
  {
   "cell_type": "code",
   "execution_count": 11,
   "metadata": {},
   "outputs": [],
   "source": [
    "df_15 = pd.read_csv('datos2015.csv', delimiter=';')"
   ]
  },
  {
   "cell_type": "code",
   "execution_count": 12,
   "metadata": {},
   "outputs": [],
   "source": [
    "df_18.columns= ['the_geom', 'relation', 'the_geom_w',\n",
    "       'accident', 'latitud', 'longitud',\n",
    "       'zip_code', 'street', 'neighbourhood', 'cause',\n",
    "       'vehicle', 'color', 'model', 'damage_level',\n",
    "       'impact_on', 'year', 'month', 'day',\n",
    "       'day_of_week', 'time', 'state', 'borough',\n",
    "       'injured', 'cartodb_id', 'age',\n",
    "       'gender', 'injury_level', 'hospitalized',\n",
    "       'dead', 'ambulance', 'tree', 'rock',\n",
    "       'sleeping', 'crane', 'infrastructure_works',\n",
    "       'pavement', 'explosion', 'rollover',\n",
    "       'loss', 'driver', 'escape',\n",
    "       'alcohol', 'motorbike', 'bike',\n",
    "       'insurance', 'taxi', 'animal', 'location']"
   ]
  },
  {
   "cell_type": "code",
   "execution_count": 13,
   "metadata": {},
   "outputs": [],
   "source": [
    "df_16.columns = ['the_geom', 'relation', 'the_geom_w', 'cause', 'accident',\n",
    "       'latitud', 'longitud',\n",
    "       'zip_code', 'street', 'neighbourhood',\n",
    "       'vehicle', 'color', 'model', 'damage_level',\n",
    "       'impact_on', 'year', 'month', 'day',\n",
    "       'day_of_week', 'time', 'state', 'borough',\n",
    "       'injured', 'cartodb_id', 'age',\n",
    "       'gender', 'injury_level', 'hospitalized',\n",
    "       'dead', 'ambulance', 'tree', 'rock',\n",
    "       'sleeping', 'crane', 'infrastructure_works',\n",
    "       'pavement', 'explosion', 'rollover',\n",
    "       'loss', 'driver', 'escape',\n",
    "       'alcohol', 'motorbike', 'bike',\n",
    "       'insurance', 'taxi', 'animal', 'location']"
   ]
  },
  {
   "cell_type": "code",
   "execution_count": 14,
   "metadata": {},
   "outputs": [],
   "source": [
    "df_15 = df_15.drop('_feature_c,N,10,0', axis=1)"
   ]
  },
  {
   "cell_type": "code",
   "execution_count": 15,
   "metadata": {},
   "outputs": [],
   "source": [
    "df_15.columns = ['the_geom', 'age', 'cause', 'the_geom_w', 'accident',\n",
    "       'latitud', 'longitud',\n",
    "       'zip_code', 'street', 'neighbourhood',\n",
    "       'vehicle', 'color', 'model', 'damage_level',\n",
    "       'impact_on', 'year', 'month', 'day',\n",
    "       'day_of_week', 'time', 'state', 'borough',\n",
    "       'injured', 'relation', 'cartodb_id',\n",
    "       'gender', 'injury_level', 'hospitalized',\n",
    "       'dead', 'ambulance', 'tree', 'rock',\n",
    "       'sleeping', 'crane', 'infrastructure_works',\n",
    "       'pavement', 'explosion', 'rollover',\n",
    "       'loss', 'driver', 'escape',\n",
    "       'alcohol', 'motorbike', 'bike',\n",
    "       'insurance', 'taxi', 'animal', 'location']"
   ]
  },
  {
   "cell_type": "code",
   "execution_count": 16,
   "metadata": {},
   "outputs": [],
   "source": [
    "df_17.columns = df_18.columns"
   ]
  },
  {
   "cell_type": "code",
   "execution_count": 18,
   "metadata": {},
   "outputs": [],
   "source": [
    "df = pd.concat([df_18, df_17, df_16, df_15], axis=0)"
   ]
  },
  {
   "cell_type": "markdown",
   "metadata": {},
   "source": [
    "df_atus = pd.concat([df_atus_17, df_atus_16, df_atus_15], axis=0 ,sort=True)"
   ]
  },
  {
   "cell_type": "code",
   "execution_count": 20,
   "metadata": {},
   "outputs": [],
   "source": [
    "df = df.reset_index().drop('index',axis=1)"
   ]
  },
  {
   "cell_type": "code",
   "execution_count": 53,
   "metadata": {},
   "outputs": [],
   "source": [
    "df.damage_level = df.damage_level.replace(to_replace = 'Sin da??o', value = 'Sin daño')\n",
    "df.cause = df.cause.replace(to_replace = 'DA?æOS POR LA CARGA', value='DAÑOS POR LA CARGA')\n",
    "df.vehicle = df.vehicle.replace(to_replace='Cami??n', value='Camión')\n",
    "df.vehicle = df.vehicle.replace(to_replace='Cami??n Ligero', value='Camión Ligero')"
   ]
  },
  {
   "cell_type": "code",
   "execution_count": 22,
   "metadata": {},
   "outputs": [
    {
     "ename": "UnicodeDecodeError",
     "evalue": "'ascii' codec can't decode byte 0xc3 in position 6: ordinal not in range(128)",
     "output_type": "error",
     "traceback": [
      "\u001b[0;31m---------------------------------------------------------------------------\u001b[0m",
      "\u001b[0;31mUnicodeDecodeError\u001b[0m                        Traceback (most recent call last)",
      "\u001b[0;32m<ipython-input-22-c5602f979d9f>\u001b[0m in \u001b[0;36m<module>\u001b[0;34m()\u001b[0m\n\u001b[1;32m      1\u001b[0m pl.bar(df.groupby('damage_level').size().sort_values(ascending=False).keys(),\n\u001b[0;32m----> 2\u001b[0;31m        np.array(df.groupby('damage_level').size().sort_values(ascending=False)));\n\u001b[0m",
      "\u001b[0;32m/Users/gerova/anaconda3/envs/py2/lib/python2.7/site-packages/matplotlib/pyplot.pyc\u001b[0m in \u001b[0;36mbar\u001b[0;34m(*args, **kwargs)\u001b[0m\n\u001b[1;32m   2625\u001b[0m                       mplDeprecation)\n\u001b[1;32m   2626\u001b[0m     \u001b[0;32mtry\u001b[0m\u001b[0;34m:\u001b[0m\u001b[0;34m\u001b[0m\u001b[0m\n\u001b[0;32m-> 2627\u001b[0;31m         \u001b[0mret\u001b[0m \u001b[0;34m=\u001b[0m \u001b[0max\u001b[0m\u001b[0;34m.\u001b[0m\u001b[0mbar\u001b[0m\u001b[0;34m(\u001b[0m\u001b[0;34m*\u001b[0m\u001b[0margs\u001b[0m\u001b[0;34m,\u001b[0m \u001b[0;34m**\u001b[0m\u001b[0mkwargs\u001b[0m\u001b[0;34m)\u001b[0m\u001b[0;34m\u001b[0m\u001b[0m\n\u001b[0m\u001b[1;32m   2628\u001b[0m     \u001b[0;32mfinally\u001b[0m\u001b[0;34m:\u001b[0m\u001b[0;34m\u001b[0m\u001b[0m\n\u001b[1;32m   2629\u001b[0m         \u001b[0max\u001b[0m\u001b[0;34m.\u001b[0m\u001b[0m_hold\u001b[0m \u001b[0;34m=\u001b[0m \u001b[0mwashold\u001b[0m\u001b[0;34m\u001b[0m\u001b[0m\n",
      "\u001b[0;32m/Users/gerova/anaconda3/envs/py2/lib/python2.7/site-packages/matplotlib/__init__.pyc\u001b[0m in \u001b[0;36minner\u001b[0;34m(ax, *args, **kwargs)\u001b[0m\n\u001b[1;32m   1708\u001b[0m                     warnings.warn(msg % (label_namer, func.__name__),\n\u001b[1;32m   1709\u001b[0m                                   RuntimeWarning, stacklevel=2)\n\u001b[0;32m-> 1710\u001b[0;31m             \u001b[0;32mreturn\u001b[0m \u001b[0mfunc\u001b[0m\u001b[0;34m(\u001b[0m\u001b[0max\u001b[0m\u001b[0;34m,\u001b[0m \u001b[0;34m*\u001b[0m\u001b[0margs\u001b[0m\u001b[0;34m,\u001b[0m \u001b[0;34m**\u001b[0m\u001b[0mkwargs\u001b[0m\u001b[0;34m)\u001b[0m\u001b[0;34m\u001b[0m\u001b[0m\n\u001b[0m\u001b[1;32m   1711\u001b[0m         \u001b[0mpre_doc\u001b[0m \u001b[0;34m=\u001b[0m \u001b[0minner\u001b[0m\u001b[0;34m.\u001b[0m\u001b[0m__doc__\u001b[0m\u001b[0;34m\u001b[0m\u001b[0m\n\u001b[1;32m   1712\u001b[0m         \u001b[0;32mif\u001b[0m \u001b[0mpre_doc\u001b[0m \u001b[0;32mis\u001b[0m \u001b[0mNone\u001b[0m\u001b[0;34m:\u001b[0m\u001b[0;34m\u001b[0m\u001b[0m\n",
      "\u001b[0;32m/Users/gerova/anaconda3/envs/py2/lib/python2.7/site-packages/matplotlib/axes/_axes.pyc\u001b[0m in \u001b[0;36mbar\u001b[0;34m(self, *args, **kwargs)\u001b[0m\n\u001b[1;32m   2082\u001b[0m \u001b[0;34m\u001b[0m\u001b[0m\n\u001b[1;32m   2083\u001b[0m         \u001b[0;32mif\u001b[0m \u001b[0morientation\u001b[0m \u001b[0;34m==\u001b[0m \u001b[0;34m'vertical'\u001b[0m\u001b[0;34m:\u001b[0m\u001b[0;34m\u001b[0m\u001b[0m\n\u001b[0;32m-> 2084\u001b[0;31m             \u001b[0mself\u001b[0m\u001b[0;34m.\u001b[0m\u001b[0m_process_unit_info\u001b[0m\u001b[0;34m(\u001b[0m\u001b[0mxdata\u001b[0m\u001b[0;34m=\u001b[0m\u001b[0mx\u001b[0m\u001b[0;34m,\u001b[0m \u001b[0mydata\u001b[0m\u001b[0;34m=\u001b[0m\u001b[0mheight\u001b[0m\u001b[0;34m,\u001b[0m \u001b[0mkwargs\u001b[0m\u001b[0;34m=\u001b[0m\u001b[0mkwargs\u001b[0m\u001b[0;34m)\u001b[0m\u001b[0;34m\u001b[0m\u001b[0m\n\u001b[0m\u001b[1;32m   2085\u001b[0m             \u001b[0;32mif\u001b[0m \u001b[0mlog\u001b[0m\u001b[0;34m:\u001b[0m\u001b[0;34m\u001b[0m\u001b[0m\n\u001b[1;32m   2086\u001b[0m                 \u001b[0mself\u001b[0m\u001b[0;34m.\u001b[0m\u001b[0mset_yscale\u001b[0m\u001b[0;34m(\u001b[0m\u001b[0;34m'log'\u001b[0m\u001b[0;34m,\u001b[0m \u001b[0mnonposy\u001b[0m\u001b[0;34m=\u001b[0m\u001b[0;34m'clip'\u001b[0m\u001b[0;34m)\u001b[0m\u001b[0;34m\u001b[0m\u001b[0m\n",
      "\u001b[0;32m/Users/gerova/anaconda3/envs/py2/lib/python2.7/site-packages/matplotlib/axes/_base.pyc\u001b[0m in \u001b[0;36m_process_unit_info\u001b[0;34m(self, xdata, ydata, kwargs)\u001b[0m\n\u001b[1;32m   1967\u001b[0m             \u001b[0;31m# we only need to update if there is nothing set yet.\u001b[0m\u001b[0;34m\u001b[0m\u001b[0;34m\u001b[0m\u001b[0m\n\u001b[1;32m   1968\u001b[0m             \u001b[0;32mif\u001b[0m \u001b[0;32mnot\u001b[0m \u001b[0mself\u001b[0m\u001b[0;34m.\u001b[0m\u001b[0mxaxis\u001b[0m\u001b[0;34m.\u001b[0m\u001b[0mhave_units\u001b[0m\u001b[0;34m(\u001b[0m\u001b[0;34m)\u001b[0m\u001b[0;34m:\u001b[0m\u001b[0;34m\u001b[0m\u001b[0m\n\u001b[0;32m-> 1969\u001b[0;31m                 \u001b[0mself\u001b[0m\u001b[0;34m.\u001b[0m\u001b[0mxaxis\u001b[0m\u001b[0;34m.\u001b[0m\u001b[0mupdate_units\u001b[0m\u001b[0;34m(\u001b[0m\u001b[0mxdata\u001b[0m\u001b[0;34m)\u001b[0m\u001b[0;34m\u001b[0m\u001b[0m\n\u001b[0m\u001b[1;32m   1970\u001b[0m \u001b[0;34m\u001b[0m\u001b[0m\n\u001b[1;32m   1971\u001b[0m         \u001b[0;32mif\u001b[0m \u001b[0mydata\u001b[0m \u001b[0;32mis\u001b[0m \u001b[0;32mnot\u001b[0m \u001b[0mNone\u001b[0m\u001b[0;34m:\u001b[0m\u001b[0;34m\u001b[0m\u001b[0m\n",
      "\u001b[0;32m/Users/gerova/anaconda3/envs/py2/lib/python2.7/site-packages/matplotlib/axis.pyc\u001b[0m in \u001b[0;36mupdate_units\u001b[0;34m(self, data)\u001b[0m\n\u001b[1;32m   1436\u001b[0m         \u001b[0mneednew\u001b[0m \u001b[0;34m=\u001b[0m \u001b[0mself\u001b[0m\u001b[0;34m.\u001b[0m\u001b[0mconverter\u001b[0m \u001b[0;34m!=\u001b[0m \u001b[0mconverter\u001b[0m\u001b[0;34m\u001b[0m\u001b[0m\n\u001b[1;32m   1437\u001b[0m         \u001b[0mself\u001b[0m\u001b[0;34m.\u001b[0m\u001b[0mconverter\u001b[0m \u001b[0;34m=\u001b[0m \u001b[0mconverter\u001b[0m\u001b[0;34m\u001b[0m\u001b[0m\n\u001b[0;32m-> 1438\u001b[0;31m         \u001b[0mdefault\u001b[0m \u001b[0;34m=\u001b[0m \u001b[0mself\u001b[0m\u001b[0;34m.\u001b[0m\u001b[0mconverter\u001b[0m\u001b[0;34m.\u001b[0m\u001b[0mdefault_units\u001b[0m\u001b[0;34m(\u001b[0m\u001b[0mdata\u001b[0m\u001b[0;34m,\u001b[0m \u001b[0mself\u001b[0m\u001b[0;34m)\u001b[0m\u001b[0;34m\u001b[0m\u001b[0m\n\u001b[0m\u001b[1;32m   1439\u001b[0m         \u001b[0;32mif\u001b[0m \u001b[0mdefault\u001b[0m \u001b[0;32mis\u001b[0m \u001b[0;32mnot\u001b[0m \u001b[0mNone\u001b[0m \u001b[0;32mand\u001b[0m \u001b[0mself\u001b[0m\u001b[0;34m.\u001b[0m\u001b[0munits\u001b[0m \u001b[0;32mis\u001b[0m \u001b[0mNone\u001b[0m\u001b[0;34m:\u001b[0m\u001b[0;34m\u001b[0m\u001b[0m\n\u001b[1;32m   1440\u001b[0m             \u001b[0mself\u001b[0m\u001b[0;34m.\u001b[0m\u001b[0mset_units\u001b[0m\u001b[0;34m(\u001b[0m\u001b[0mdefault\u001b[0m\u001b[0;34m)\u001b[0m\u001b[0;34m\u001b[0m\u001b[0m\n",
      "\u001b[0;32m/Users/gerova/anaconda3/envs/py2/lib/python2.7/site-packages/matplotlib/category.pyc\u001b[0m in \u001b[0;36mdefault_units\u001b[0;34m(data, axis)\u001b[0m\n\u001b[1;32m     64\u001b[0m         \u001b[0;31m# default_units->axis_info->convert\u001b[0m\u001b[0;34m\u001b[0m\u001b[0;34m\u001b[0m\u001b[0m\n\u001b[1;32m     65\u001b[0m         \u001b[0;32mif\u001b[0m \u001b[0maxis\u001b[0m\u001b[0;34m.\u001b[0m\u001b[0munit_data\u001b[0m \u001b[0;32mis\u001b[0m \u001b[0mNone\u001b[0m\u001b[0;34m:\u001b[0m\u001b[0;34m\u001b[0m\u001b[0m\n\u001b[0;32m---> 66\u001b[0;31m             \u001b[0maxis\u001b[0m\u001b[0;34m.\u001b[0m\u001b[0munit_data\u001b[0m \u001b[0;34m=\u001b[0m \u001b[0mUnitData\u001b[0m\u001b[0;34m(\u001b[0m\u001b[0mdata\u001b[0m\u001b[0;34m)\u001b[0m\u001b[0;34m\u001b[0m\u001b[0m\n\u001b[0m\u001b[1;32m     67\u001b[0m         \u001b[0;32melse\u001b[0m\u001b[0;34m:\u001b[0m\u001b[0;34m\u001b[0m\u001b[0m\n\u001b[1;32m     68\u001b[0m             \u001b[0maxis\u001b[0m\u001b[0;34m.\u001b[0m\u001b[0munit_data\u001b[0m\u001b[0;34m.\u001b[0m\u001b[0mupdate\u001b[0m\u001b[0;34m(\u001b[0m\u001b[0mdata\u001b[0m\u001b[0;34m)\u001b[0m\u001b[0;34m\u001b[0m\u001b[0m\n",
      "\u001b[0;32m/Users/gerova/anaconda3/envs/py2/lib/python2.7/site-packages/matplotlib/category.pyc\u001b[0m in \u001b[0;36m__init__\u001b[0;34m(self, data)\u001b[0m\n\u001b[1;32m     96\u001b[0m         \"\"\"\n\u001b[1;32m     97\u001b[0m         \u001b[0mself\u001b[0m\u001b[0;34m.\u001b[0m\u001b[0mseq\u001b[0m\u001b[0;34m,\u001b[0m \u001b[0mself\u001b[0m\u001b[0;34m.\u001b[0m\u001b[0mlocs\u001b[0m \u001b[0;34m=\u001b[0m \u001b[0;34m[\u001b[0m\u001b[0;34m]\u001b[0m\u001b[0;34m,\u001b[0m \u001b[0;34m[\u001b[0m\u001b[0;34m]\u001b[0m\u001b[0;34m\u001b[0m\u001b[0m\n\u001b[0;32m---> 98\u001b[0;31m         \u001b[0mself\u001b[0m\u001b[0;34m.\u001b[0m\u001b[0m_set_seq_locs\u001b[0m\u001b[0;34m(\u001b[0m\u001b[0mdata\u001b[0m\u001b[0;34m,\u001b[0m \u001b[0;36m0\u001b[0m\u001b[0;34m)\u001b[0m\u001b[0;34m\u001b[0m\u001b[0m\n\u001b[0m\u001b[1;32m     99\u001b[0m \u001b[0;34m\u001b[0m\u001b[0m\n\u001b[1;32m    100\u001b[0m     \u001b[0;32mdef\u001b[0m \u001b[0mupdate\u001b[0m\u001b[0;34m(\u001b[0m\u001b[0mself\u001b[0m\u001b[0;34m,\u001b[0m \u001b[0mnew_data\u001b[0m\u001b[0;34m)\u001b[0m\u001b[0;34m:\u001b[0m\u001b[0;34m\u001b[0m\u001b[0m\n",
      "\u001b[0;32m/Users/gerova/anaconda3/envs/py2/lib/python2.7/site-packages/matplotlib/category.pyc\u001b[0m in \u001b[0;36m_set_seq_locs\u001b[0;34m(self, data, value)\u001b[0m\n\u001b[1;32m    104\u001b[0m \u001b[0;34m\u001b[0m\u001b[0m\n\u001b[1;32m    105\u001b[0m     \u001b[0;32mdef\u001b[0m \u001b[0m_set_seq_locs\u001b[0m\u001b[0;34m(\u001b[0m\u001b[0mself\u001b[0m\u001b[0;34m,\u001b[0m \u001b[0mdata\u001b[0m\u001b[0;34m,\u001b[0m \u001b[0mvalue\u001b[0m\u001b[0;34m)\u001b[0m\u001b[0;34m:\u001b[0m\u001b[0;34m\u001b[0m\u001b[0m\n\u001b[0;32m--> 106\u001b[0;31m         \u001b[0mstrdata\u001b[0m \u001b[0;34m=\u001b[0m \u001b[0mshim_array\u001b[0m\u001b[0;34m(\u001b[0m\u001b[0mdata\u001b[0m\u001b[0;34m)\u001b[0m\u001b[0;34m\u001b[0m\u001b[0m\n\u001b[0m\u001b[1;32m    107\u001b[0m         \u001b[0mnew_s\u001b[0m \u001b[0;34m=\u001b[0m \u001b[0;34m[\u001b[0m\u001b[0md\u001b[0m \u001b[0;32mfor\u001b[0m \u001b[0md\u001b[0m \u001b[0;32min\u001b[0m \u001b[0mnp\u001b[0m\u001b[0;34m.\u001b[0m\u001b[0munique\u001b[0m\u001b[0;34m(\u001b[0m\u001b[0mstrdata\u001b[0m\u001b[0;34m)\u001b[0m \u001b[0;32mif\u001b[0m \u001b[0md\u001b[0m \u001b[0;32mnot\u001b[0m \u001b[0;32min\u001b[0m \u001b[0mself\u001b[0m\u001b[0;34m.\u001b[0m\u001b[0mseq\u001b[0m\u001b[0;34m]\u001b[0m\u001b[0;34m\u001b[0m\u001b[0m\n\u001b[1;32m    108\u001b[0m         \u001b[0;32mfor\u001b[0m \u001b[0mns\u001b[0m \u001b[0;32min\u001b[0m \u001b[0mnew_s\u001b[0m\u001b[0;34m:\u001b[0m\u001b[0;34m\u001b[0m\u001b[0m\n",
      "\u001b[0;32m/Users/gerova/anaconda3/envs/py2/lib/python2.7/site-packages/matplotlib/category.pyc\u001b[0m in \u001b[0;36mshim_array\u001b[0;34m(data)\u001b[0m\n\u001b[1;32m     19\u001b[0m \u001b[0;32mif\u001b[0m \u001b[0mLooseVersion\u001b[0m\u001b[0;34m(\u001b[0m\u001b[0mnp\u001b[0m\u001b[0;34m.\u001b[0m\u001b[0m__version__\u001b[0m\u001b[0;34m)\u001b[0m \u001b[0;34m>=\u001b[0m \u001b[0mLooseVersion\u001b[0m\u001b[0;34m(\u001b[0m\u001b[0;34m'1.8.0'\u001b[0m\u001b[0;34m)\u001b[0m\u001b[0;34m:\u001b[0m\u001b[0;34m\u001b[0m\u001b[0m\n\u001b[1;32m     20\u001b[0m     \u001b[0;32mdef\u001b[0m \u001b[0mshim_array\u001b[0m\u001b[0;34m(\u001b[0m\u001b[0mdata\u001b[0m\u001b[0;34m)\u001b[0m\u001b[0;34m:\u001b[0m\u001b[0;34m\u001b[0m\u001b[0m\n\u001b[0;32m---> 21\u001b[0;31m         \u001b[0;32mreturn\u001b[0m \u001b[0mnp\u001b[0m\u001b[0;34m.\u001b[0m\u001b[0marray\u001b[0m\u001b[0;34m(\u001b[0m\u001b[0mdata\u001b[0m\u001b[0;34m,\u001b[0m \u001b[0mdtype\u001b[0m\u001b[0;34m=\u001b[0m\u001b[0mnp\u001b[0m\u001b[0;34m.\u001b[0m\u001b[0municode\u001b[0m\u001b[0;34m)\u001b[0m\u001b[0;34m\u001b[0m\u001b[0m\n\u001b[0m\u001b[1;32m     22\u001b[0m \u001b[0;32melse\u001b[0m\u001b[0;34m:\u001b[0m\u001b[0;34m\u001b[0m\u001b[0m\n\u001b[1;32m     23\u001b[0m     \u001b[0;32mdef\u001b[0m \u001b[0mshim_array\u001b[0m\u001b[0;34m(\u001b[0m\u001b[0mdata\u001b[0m\u001b[0;34m)\u001b[0m\u001b[0;34m:\u001b[0m\u001b[0;34m\u001b[0m\u001b[0m\n",
      "\u001b[0;31mUnicodeDecodeError\u001b[0m: 'ascii' codec can't decode byte 0xc3 in position 6: ordinal not in range(128)"
     ]
    },
    {
     "ename": "AttributeError",
     "evalue": "'NoneType' object has no attribute 'seq'",
     "output_type": "error",
     "traceback": [
      "\u001b[0;31m---------------------------------------------------------------------------\u001b[0m",
      "\u001b[0;31mAttributeError\u001b[0m                            Traceback (most recent call last)",
      "\u001b[0;32m/Users/gerova/anaconda3/envs/py2/lib/python2.7/site-packages/IPython/core/formatters.pyc\u001b[0m in \u001b[0;36m__call__\u001b[0;34m(self, obj)\u001b[0m\n\u001b[1;32m    332\u001b[0m                 \u001b[0;32mpass\u001b[0m\u001b[0;34m\u001b[0m\u001b[0m\n\u001b[1;32m    333\u001b[0m             \u001b[0;32melse\u001b[0m\u001b[0;34m:\u001b[0m\u001b[0;34m\u001b[0m\u001b[0m\n\u001b[0;32m--> 334\u001b[0;31m                 \u001b[0;32mreturn\u001b[0m \u001b[0mprinter\u001b[0m\u001b[0;34m(\u001b[0m\u001b[0mobj\u001b[0m\u001b[0;34m)\u001b[0m\u001b[0;34m\u001b[0m\u001b[0m\n\u001b[0m\u001b[1;32m    335\u001b[0m             \u001b[0;31m# Finally look for special method names\u001b[0m\u001b[0;34m\u001b[0m\u001b[0;34m\u001b[0m\u001b[0m\n\u001b[1;32m    336\u001b[0m             \u001b[0mmethod\u001b[0m \u001b[0;34m=\u001b[0m \u001b[0mget_real_method\u001b[0m\u001b[0;34m(\u001b[0m\u001b[0mobj\u001b[0m\u001b[0;34m,\u001b[0m \u001b[0mself\u001b[0m\u001b[0;34m.\u001b[0m\u001b[0mprint_method\u001b[0m\u001b[0;34m)\u001b[0m\u001b[0;34m\u001b[0m\u001b[0m\n",
      "\u001b[0;32m/Users/gerova/anaconda3/envs/py2/lib/python2.7/site-packages/IPython/core/pylabtools.pyc\u001b[0m in \u001b[0;36m<lambda>\u001b[0;34m(fig)\u001b[0m\n\u001b[1;32m    238\u001b[0m \u001b[0;34m\u001b[0m\u001b[0m\n\u001b[1;32m    239\u001b[0m     \u001b[0;32mif\u001b[0m \u001b[0;34m'png'\u001b[0m \u001b[0;32min\u001b[0m \u001b[0mformats\u001b[0m\u001b[0;34m:\u001b[0m\u001b[0;34m\u001b[0m\u001b[0m\n\u001b[0;32m--> 240\u001b[0;31m         \u001b[0mpng_formatter\u001b[0m\u001b[0;34m.\u001b[0m\u001b[0mfor_type\u001b[0m\u001b[0;34m(\u001b[0m\u001b[0mFigure\u001b[0m\u001b[0;34m,\u001b[0m \u001b[0;32mlambda\u001b[0m \u001b[0mfig\u001b[0m\u001b[0;34m:\u001b[0m \u001b[0mprint_figure\u001b[0m\u001b[0;34m(\u001b[0m\u001b[0mfig\u001b[0m\u001b[0;34m,\u001b[0m \u001b[0;34m'png'\u001b[0m\u001b[0;34m,\u001b[0m \u001b[0;34m**\u001b[0m\u001b[0mkwargs\u001b[0m\u001b[0;34m)\u001b[0m\u001b[0;34m)\u001b[0m\u001b[0;34m\u001b[0m\u001b[0m\n\u001b[0m\u001b[1;32m    241\u001b[0m     \u001b[0;32mif\u001b[0m \u001b[0;34m'retina'\u001b[0m \u001b[0;32min\u001b[0m \u001b[0mformats\u001b[0m \u001b[0;32mor\u001b[0m \u001b[0;34m'png2x'\u001b[0m \u001b[0;32min\u001b[0m \u001b[0mformats\u001b[0m\u001b[0;34m:\u001b[0m\u001b[0;34m\u001b[0m\u001b[0m\n\u001b[1;32m    242\u001b[0m         \u001b[0mpng_formatter\u001b[0m\u001b[0;34m.\u001b[0m\u001b[0mfor_type\u001b[0m\u001b[0;34m(\u001b[0m\u001b[0mFigure\u001b[0m\u001b[0;34m,\u001b[0m \u001b[0;32mlambda\u001b[0m \u001b[0mfig\u001b[0m\u001b[0;34m:\u001b[0m \u001b[0mretina_figure\u001b[0m\u001b[0;34m(\u001b[0m\u001b[0mfig\u001b[0m\u001b[0;34m,\u001b[0m \u001b[0;34m**\u001b[0m\u001b[0mkwargs\u001b[0m\u001b[0;34m)\u001b[0m\u001b[0;34m)\u001b[0m\u001b[0;34m\u001b[0m\u001b[0m\n",
      "\u001b[0;32m/Users/gerova/anaconda3/envs/py2/lib/python2.7/site-packages/IPython/core/pylabtools.pyc\u001b[0m in \u001b[0;36mprint_figure\u001b[0;34m(fig, fmt, bbox_inches, **kwargs)\u001b[0m\n\u001b[1;32m    122\u001b[0m \u001b[0;34m\u001b[0m\u001b[0m\n\u001b[1;32m    123\u001b[0m     \u001b[0mbytes_io\u001b[0m \u001b[0;34m=\u001b[0m \u001b[0mBytesIO\u001b[0m\u001b[0;34m(\u001b[0m\u001b[0;34m)\u001b[0m\u001b[0;34m\u001b[0m\u001b[0m\n\u001b[0;32m--> 124\u001b[0;31m     \u001b[0mfig\u001b[0m\u001b[0;34m.\u001b[0m\u001b[0mcanvas\u001b[0m\u001b[0;34m.\u001b[0m\u001b[0mprint_figure\u001b[0m\u001b[0;34m(\u001b[0m\u001b[0mbytes_io\u001b[0m\u001b[0;34m,\u001b[0m \u001b[0;34m**\u001b[0m\u001b[0mkw\u001b[0m\u001b[0;34m)\u001b[0m\u001b[0;34m\u001b[0m\u001b[0m\n\u001b[0m\u001b[1;32m    125\u001b[0m     \u001b[0mdata\u001b[0m \u001b[0;34m=\u001b[0m \u001b[0mbytes_io\u001b[0m\u001b[0;34m.\u001b[0m\u001b[0mgetvalue\u001b[0m\u001b[0;34m(\u001b[0m\u001b[0;34m)\u001b[0m\u001b[0;34m\u001b[0m\u001b[0m\n\u001b[1;32m    126\u001b[0m     \u001b[0;32mif\u001b[0m \u001b[0mfmt\u001b[0m \u001b[0;34m==\u001b[0m \u001b[0;34m'svg'\u001b[0m\u001b[0;34m:\u001b[0m\u001b[0;34m\u001b[0m\u001b[0m\n",
      "\u001b[0;32m/Users/gerova/anaconda3/envs/py2/lib/python2.7/site-packages/matplotlib/backend_bases.pyc\u001b[0m in \u001b[0;36mprint_figure\u001b[0;34m(self, filename, dpi, facecolor, edgecolor, orientation, format, **kwargs)\u001b[0m\n\u001b[1;32m   2208\u001b[0m                     **kwargs)\n\u001b[1;32m   2209\u001b[0m                 \u001b[0mrenderer\u001b[0m \u001b[0;34m=\u001b[0m \u001b[0mself\u001b[0m\u001b[0;34m.\u001b[0m\u001b[0mfigure\u001b[0m\u001b[0;34m.\u001b[0m\u001b[0m_cachedRenderer\u001b[0m\u001b[0;34m\u001b[0m\u001b[0m\n\u001b[0;32m-> 2210\u001b[0;31m                 \u001b[0mbbox_inches\u001b[0m \u001b[0;34m=\u001b[0m \u001b[0mself\u001b[0m\u001b[0;34m.\u001b[0m\u001b[0mfigure\u001b[0m\u001b[0;34m.\u001b[0m\u001b[0mget_tightbbox\u001b[0m\u001b[0;34m(\u001b[0m\u001b[0mrenderer\u001b[0m\u001b[0;34m)\u001b[0m\u001b[0;34m\u001b[0m\u001b[0m\n\u001b[0m\u001b[1;32m   2211\u001b[0m \u001b[0;34m\u001b[0m\u001b[0m\n\u001b[1;32m   2212\u001b[0m                 \u001b[0mbbox_artists\u001b[0m \u001b[0;34m=\u001b[0m \u001b[0mkwargs\u001b[0m\u001b[0;34m.\u001b[0m\u001b[0mpop\u001b[0m\u001b[0;34m(\u001b[0m\u001b[0;34m\"bbox_extra_artists\"\u001b[0m\u001b[0;34m,\u001b[0m \u001b[0mNone\u001b[0m\u001b[0;34m)\u001b[0m\u001b[0;34m\u001b[0m\u001b[0m\n",
      "\u001b[0;32m/Users/gerova/anaconda3/envs/py2/lib/python2.7/site-packages/matplotlib/figure.pyc\u001b[0m in \u001b[0;36mget_tightbbox\u001b[0;34m(self, renderer)\u001b[0m\n\u001b[1;32m   1961\u001b[0m         \u001b[0;32mfor\u001b[0m \u001b[0max\u001b[0m \u001b[0;32min\u001b[0m \u001b[0mself\u001b[0m\u001b[0;34m.\u001b[0m\u001b[0maxes\u001b[0m\u001b[0;34m:\u001b[0m\u001b[0;34m\u001b[0m\u001b[0m\n\u001b[1;32m   1962\u001b[0m             \u001b[0;32mif\u001b[0m \u001b[0max\u001b[0m\u001b[0;34m.\u001b[0m\u001b[0mget_visible\u001b[0m\u001b[0;34m(\u001b[0m\u001b[0;34m)\u001b[0m\u001b[0;34m:\u001b[0m\u001b[0;34m\u001b[0m\u001b[0m\n\u001b[0;32m-> 1963\u001b[0;31m                 \u001b[0mbb\u001b[0m\u001b[0;34m.\u001b[0m\u001b[0mappend\u001b[0m\u001b[0;34m(\u001b[0m\u001b[0max\u001b[0m\u001b[0;34m.\u001b[0m\u001b[0mget_tightbbox\u001b[0m\u001b[0;34m(\u001b[0m\u001b[0mrenderer\u001b[0m\u001b[0;34m)\u001b[0m\u001b[0;34m)\u001b[0m\u001b[0;34m\u001b[0m\u001b[0m\n\u001b[0m\u001b[1;32m   1964\u001b[0m \u001b[0;34m\u001b[0m\u001b[0m\n\u001b[1;32m   1965\u001b[0m         \u001b[0;32mif\u001b[0m \u001b[0mlen\u001b[0m\u001b[0;34m(\u001b[0m\u001b[0mbb\u001b[0m\u001b[0;34m)\u001b[0m \u001b[0;34m==\u001b[0m \u001b[0;36m0\u001b[0m\u001b[0;34m:\u001b[0m\u001b[0;34m\u001b[0m\u001b[0m\n",
      "\u001b[0;32m/Users/gerova/anaconda3/envs/py2/lib/python2.7/site-packages/matplotlib/axes/_base.pyc\u001b[0m in \u001b[0;36mget_tightbbox\u001b[0;34m(self, renderer, call_axes_locator)\u001b[0m\n\u001b[1;32m   3952\u001b[0m \u001b[0;34m\u001b[0m\u001b[0m\n\u001b[1;32m   3953\u001b[0m         \u001b[0;32mif\u001b[0m \u001b[0mself\u001b[0m\u001b[0;34m.\u001b[0m\u001b[0mtitle\u001b[0m\u001b[0;34m.\u001b[0m\u001b[0mget_visible\u001b[0m\u001b[0;34m(\u001b[0m\u001b[0;34m)\u001b[0m\u001b[0;34m:\u001b[0m\u001b[0;34m\u001b[0m\u001b[0m\n\u001b[0;32m-> 3954\u001b[0;31m             \u001b[0mbb\u001b[0m\u001b[0;34m.\u001b[0m\u001b[0mappend\u001b[0m\u001b[0;34m(\u001b[0m\u001b[0mself\u001b[0m\u001b[0;34m.\u001b[0m\u001b[0mtitle\u001b[0m\u001b[0;34m.\u001b[0m\u001b[0mget_window_extent\u001b[0m\u001b[0;34m(\u001b[0m\u001b[0mrenderer\u001b[0m\u001b[0;34m)\u001b[0m\u001b[0;34m)\u001b[0m\u001b[0;34m\u001b[0m\u001b[0m\n\u001b[0m\u001b[1;32m   3955\u001b[0m         \u001b[0;32mif\u001b[0m \u001b[0mself\u001b[0m\u001b[0;34m.\u001b[0m\u001b[0m_left_title\u001b[0m\u001b[0;34m.\u001b[0m\u001b[0mget_visible\u001b[0m\u001b[0;34m(\u001b[0m\u001b[0;34m)\u001b[0m\u001b[0;34m:\u001b[0m\u001b[0;34m\u001b[0m\u001b[0m\n\u001b[1;32m   3956\u001b[0m             \u001b[0mbb\u001b[0m\u001b[0;34m.\u001b[0m\u001b[0mappend\u001b[0m\u001b[0;34m(\u001b[0m\u001b[0mself\u001b[0m\u001b[0;34m.\u001b[0m\u001b[0m_left_title\u001b[0m\u001b[0;34m.\u001b[0m\u001b[0mget_window_extent\u001b[0m\u001b[0;34m(\u001b[0m\u001b[0mrenderer\u001b[0m\u001b[0;34m)\u001b[0m\u001b[0;34m)\u001b[0m\u001b[0;34m\u001b[0m\u001b[0m\n",
      "\u001b[0;32m/Users/gerova/anaconda3/envs/py2/lib/python2.7/site-packages/matplotlib/text.pyc\u001b[0m in \u001b[0;36mget_window_extent\u001b[0;34m(self, renderer, dpi)\u001b[0m\n\u001b[1;32m    960\u001b[0m             \u001b[0mself\u001b[0m\u001b[0;34m.\u001b[0m\u001b[0mfigure\u001b[0m\u001b[0;34m.\u001b[0m\u001b[0mdpi\u001b[0m \u001b[0;34m=\u001b[0m \u001b[0mdpi\u001b[0m\u001b[0;34m\u001b[0m\u001b[0m\n\u001b[1;32m    961\u001b[0m         \u001b[0;32mif\u001b[0m \u001b[0mself\u001b[0m\u001b[0;34m.\u001b[0m\u001b[0mget_text\u001b[0m\u001b[0;34m(\u001b[0m\u001b[0;34m)\u001b[0m \u001b[0;34m==\u001b[0m \u001b[0;34m''\u001b[0m\u001b[0;34m:\u001b[0m\u001b[0;34m\u001b[0m\u001b[0m\n\u001b[0;32m--> 962\u001b[0;31m             \u001b[0mtx\u001b[0m\u001b[0;34m,\u001b[0m \u001b[0mty\u001b[0m \u001b[0;34m=\u001b[0m \u001b[0mself\u001b[0m\u001b[0;34m.\u001b[0m\u001b[0m_get_xy_display\u001b[0m\u001b[0;34m(\u001b[0m\u001b[0;34m)\u001b[0m\u001b[0;34m\u001b[0m\u001b[0m\n\u001b[0m\u001b[1;32m    963\u001b[0m             \u001b[0;32mreturn\u001b[0m \u001b[0mBbox\u001b[0m\u001b[0;34m.\u001b[0m\u001b[0mfrom_bounds\u001b[0m\u001b[0;34m(\u001b[0m\u001b[0mtx\u001b[0m\u001b[0;34m,\u001b[0m \u001b[0mty\u001b[0m\u001b[0;34m,\u001b[0m \u001b[0;36m0\u001b[0m\u001b[0;34m,\u001b[0m \u001b[0;36m0\u001b[0m\u001b[0;34m)\u001b[0m\u001b[0;34m\u001b[0m\u001b[0m\n\u001b[1;32m    964\u001b[0m \u001b[0;34m\u001b[0m\u001b[0m\n",
      "\u001b[0;32m/Users/gerova/anaconda3/envs/py2/lib/python2.7/site-packages/matplotlib/text.pyc\u001b[0m in \u001b[0;36m_get_xy_display\u001b[0;34m(self)\u001b[0m\n\u001b[1;32m    284\u001b[0m     \u001b[0;32mdef\u001b[0m \u001b[0m_get_xy_display\u001b[0m\u001b[0;34m(\u001b[0m\u001b[0mself\u001b[0m\u001b[0;34m)\u001b[0m\u001b[0;34m:\u001b[0m\u001b[0;34m\u001b[0m\u001b[0m\n\u001b[1;32m    285\u001b[0m         \u001b[0;34m'get the (possibly unit converted) transformed x, y in display coords'\u001b[0m\u001b[0;34m\u001b[0m\u001b[0m\n\u001b[0;32m--> 286\u001b[0;31m         \u001b[0mx\u001b[0m\u001b[0;34m,\u001b[0m \u001b[0my\u001b[0m \u001b[0;34m=\u001b[0m \u001b[0mself\u001b[0m\u001b[0;34m.\u001b[0m\u001b[0mget_unitless_position\u001b[0m\u001b[0;34m(\u001b[0m\u001b[0;34m)\u001b[0m\u001b[0;34m\u001b[0m\u001b[0m\n\u001b[0m\u001b[1;32m    287\u001b[0m         \u001b[0;32mreturn\u001b[0m \u001b[0mself\u001b[0m\u001b[0;34m.\u001b[0m\u001b[0mget_transform\u001b[0m\u001b[0;34m(\u001b[0m\u001b[0;34m)\u001b[0m\u001b[0;34m.\u001b[0m\u001b[0mtransform_point\u001b[0m\u001b[0;34m(\u001b[0m\u001b[0;34m(\u001b[0m\u001b[0mx\u001b[0m\u001b[0;34m,\u001b[0m \u001b[0my\u001b[0m\u001b[0;34m)\u001b[0m\u001b[0;34m)\u001b[0m\u001b[0;34m\u001b[0m\u001b[0m\n\u001b[1;32m    288\u001b[0m \u001b[0;34m\u001b[0m\u001b[0m\n",
      "\u001b[0;32m/Users/gerova/anaconda3/envs/py2/lib/python2.7/site-packages/matplotlib/text.pyc\u001b[0m in \u001b[0;36mget_unitless_position\u001b[0;34m(self)\u001b[0m\n\u001b[1;32m    890\u001b[0m         \u001b[0;31m# This will get the position with all unit information stripped away.\u001b[0m\u001b[0;34m\u001b[0m\u001b[0;34m\u001b[0m\u001b[0m\n\u001b[1;32m    891\u001b[0m         \u001b[0;31m# This is here for convienience since it is done in several locations.\u001b[0m\u001b[0;34m\u001b[0m\u001b[0;34m\u001b[0m\u001b[0m\n\u001b[0;32m--> 892\u001b[0;31m         \u001b[0mx\u001b[0m \u001b[0;34m=\u001b[0m \u001b[0mfloat\u001b[0m\u001b[0;34m(\u001b[0m\u001b[0mself\u001b[0m\u001b[0;34m.\u001b[0m\u001b[0mconvert_xunits\u001b[0m\u001b[0;34m(\u001b[0m\u001b[0mself\u001b[0m\u001b[0;34m.\u001b[0m\u001b[0m_x\u001b[0m\u001b[0;34m)\u001b[0m\u001b[0;34m)\u001b[0m\u001b[0;34m\u001b[0m\u001b[0m\n\u001b[0m\u001b[1;32m    893\u001b[0m         \u001b[0my\u001b[0m \u001b[0;34m=\u001b[0m \u001b[0mfloat\u001b[0m\u001b[0;34m(\u001b[0m\u001b[0mself\u001b[0m\u001b[0;34m.\u001b[0m\u001b[0mconvert_yunits\u001b[0m\u001b[0;34m(\u001b[0m\u001b[0mself\u001b[0m\u001b[0;34m.\u001b[0m\u001b[0m_y\u001b[0m\u001b[0;34m)\u001b[0m\u001b[0;34m)\u001b[0m\u001b[0;34m\u001b[0m\u001b[0m\n\u001b[1;32m    894\u001b[0m         \u001b[0;32mreturn\u001b[0m \u001b[0mx\u001b[0m\u001b[0;34m,\u001b[0m \u001b[0my\u001b[0m\u001b[0;34m\u001b[0m\u001b[0m\n",
      "\u001b[0;32m/Users/gerova/anaconda3/envs/py2/lib/python2.7/site-packages/matplotlib/artist.pyc\u001b[0m in \u001b[0;36mconvert_xunits\u001b[0;34m(self, x)\u001b[0m\n\u001b[1;32m    189\u001b[0m         \u001b[0;32mif\u001b[0m \u001b[0max\u001b[0m \u001b[0;32mis\u001b[0m \u001b[0mNone\u001b[0m \u001b[0;32mor\u001b[0m \u001b[0max\u001b[0m\u001b[0;34m.\u001b[0m\u001b[0mxaxis\u001b[0m \u001b[0;32mis\u001b[0m \u001b[0mNone\u001b[0m\u001b[0;34m:\u001b[0m\u001b[0;34m\u001b[0m\u001b[0m\n\u001b[1;32m    190\u001b[0m             \u001b[0;32mreturn\u001b[0m \u001b[0mx\u001b[0m\u001b[0;34m\u001b[0m\u001b[0m\n\u001b[0;32m--> 191\u001b[0;31m         \u001b[0;32mreturn\u001b[0m \u001b[0max\u001b[0m\u001b[0;34m.\u001b[0m\u001b[0mxaxis\u001b[0m\u001b[0;34m.\u001b[0m\u001b[0mconvert_units\u001b[0m\u001b[0;34m(\u001b[0m\u001b[0mx\u001b[0m\u001b[0;34m)\u001b[0m\u001b[0;34m\u001b[0m\u001b[0m\n\u001b[0m\u001b[1;32m    192\u001b[0m \u001b[0;34m\u001b[0m\u001b[0m\n\u001b[1;32m    193\u001b[0m     \u001b[0;32mdef\u001b[0m \u001b[0mconvert_yunits\u001b[0m\u001b[0;34m(\u001b[0m\u001b[0mself\u001b[0m\u001b[0;34m,\u001b[0m \u001b[0my\u001b[0m\u001b[0;34m)\u001b[0m\u001b[0;34m:\u001b[0m\u001b[0;34m\u001b[0m\u001b[0m\n",
      "\u001b[0;32m/Users/gerova/anaconda3/envs/py2/lib/python2.7/site-packages/matplotlib/axis.pyc\u001b[0m in \u001b[0;36mconvert_units\u001b[0;34m(self, x)\u001b[0m\n\u001b[1;32m   1489\u001b[0m             \u001b[0;32mreturn\u001b[0m \u001b[0mx\u001b[0m\u001b[0;34m\u001b[0m\u001b[0m\n\u001b[1;32m   1490\u001b[0m \u001b[0;34m\u001b[0m\u001b[0m\n\u001b[0;32m-> 1491\u001b[0;31m         \u001b[0mret\u001b[0m \u001b[0;34m=\u001b[0m \u001b[0mself\u001b[0m\u001b[0;34m.\u001b[0m\u001b[0mconverter\u001b[0m\u001b[0;34m.\u001b[0m\u001b[0mconvert\u001b[0m\u001b[0;34m(\u001b[0m\u001b[0mx\u001b[0m\u001b[0;34m,\u001b[0m \u001b[0mself\u001b[0m\u001b[0;34m.\u001b[0m\u001b[0munits\u001b[0m\u001b[0;34m,\u001b[0m \u001b[0mself\u001b[0m\u001b[0;34m)\u001b[0m\u001b[0;34m\u001b[0m\u001b[0m\n\u001b[0m\u001b[1;32m   1492\u001b[0m         \u001b[0;32mreturn\u001b[0m \u001b[0mret\u001b[0m\u001b[0;34m\u001b[0m\u001b[0m\n\u001b[1;32m   1493\u001b[0m \u001b[0;34m\u001b[0m\u001b[0m\n",
      "\u001b[0;32m/Users/gerova/anaconda3/envs/py2/lib/python2.7/site-packages/matplotlib/category.pyc\u001b[0m in \u001b[0;36mconvert\u001b[0;34m(value, unit, axis)\u001b[0m\n\u001b[1;32m     41\u001b[0m         \u001b[0mdata\u001b[0m \u001b[0;32mas\u001b[0m \u001b[0mfloats\u001b[0m\u001b[0;34m\u001b[0m\u001b[0m\n\u001b[1;32m     42\u001b[0m         \"\"\"\n\u001b[0;32m---> 43\u001b[0;31m         \u001b[0mvmap\u001b[0m \u001b[0;34m=\u001b[0m \u001b[0mdict\u001b[0m\u001b[0;34m(\u001b[0m\u001b[0mzip\u001b[0m\u001b[0;34m(\u001b[0m\u001b[0maxis\u001b[0m\u001b[0;34m.\u001b[0m\u001b[0munit_data\u001b[0m\u001b[0;34m.\u001b[0m\u001b[0mseq\u001b[0m\u001b[0;34m,\u001b[0m \u001b[0maxis\u001b[0m\u001b[0;34m.\u001b[0m\u001b[0munit_data\u001b[0m\u001b[0;34m.\u001b[0m\u001b[0mlocs\u001b[0m\u001b[0;34m)\u001b[0m\u001b[0;34m)\u001b[0m\u001b[0;34m\u001b[0m\u001b[0m\n\u001b[0m\u001b[1;32m     44\u001b[0m \u001b[0;34m\u001b[0m\u001b[0m\n\u001b[1;32m     45\u001b[0m         \u001b[0;32mif\u001b[0m \u001b[0misinstance\u001b[0m\u001b[0;34m(\u001b[0m\u001b[0mvalue\u001b[0m\u001b[0;34m,\u001b[0m \u001b[0msix\u001b[0m\u001b[0;34m.\u001b[0m\u001b[0mstring_types\u001b[0m\u001b[0;34m)\u001b[0m\u001b[0;34m:\u001b[0m\u001b[0;34m\u001b[0m\u001b[0m\n",
      "\u001b[0;31mAttributeError\u001b[0m: 'NoneType' object has no attribute 'seq'"
     ]
    },
    {
     "data": {
      "text/plain": [
       "<matplotlib.figure.Figure at 0x1a1cd73dd0>"
      ]
     },
     "metadata": {},
     "output_type": "display_data"
    }
   ],
   "source": [
    "pl.bar(df.groupby('damage_level').size().sort_values(ascending=False).keys(),\n",
    "       np.array(df.groupby('damage_level').size().sort_values(ascending=False)));"
   ]
  },
  {
   "cell_type": "code",
   "execution_count": null,
   "metadata": {},
   "outputs": [],
   "source": [
    "pl.bar(df.groupby('cause').size().sort_values(ascending=False).keys(),\n",
    "       np.array(df.groupby('cause').size().sort_values(ascending=False)))\n",
    "pl.xticks(rotation=90)\n",
    "pl.ylim(0,1200);"
   ]
  },
  {
   "cell_type": "code",
   "execution_count": 6,
   "metadata": {},
   "outputs": [
    {
     "ename": "NameError",
     "evalue": "name 'df' is not defined",
     "output_type": "error",
     "traceback": [
      "\u001b[0;31m---------------------------------------------------------------------------\u001b[0m",
      "\u001b[0;31mNameError\u001b[0m                                 Traceback (most recent call last)",
      "\u001b[0;32m<ipython-input-6-3ad92ed5d714>\u001b[0m in \u001b[0;36m<module>\u001b[0;34m()\u001b[0m\n\u001b[1;32m      1\u001b[0m \u001b[0;31m#pl.figure(figsize=(15,5))\u001b[0m\u001b[0;34m\u001b[0m\u001b[0;34m\u001b[0m\u001b[0m\n\u001b[0;32m----> 2\u001b[0;31m pl.bar(df.groupby('day_of_week').size().sort_values(ascending=False).keys(),\n\u001b[0m\u001b[1;32m      3\u001b[0m        np.array(df.groupby('day_of_week').size().sort_values(ascending=False)))\n\u001b[1;32m      4\u001b[0m \u001b[0mpl\u001b[0m\u001b[0;34m.\u001b[0m\u001b[0mxticks\u001b[0m\u001b[0;34m(\u001b[0m\u001b[0mrotation\u001b[0m\u001b[0;34m=\u001b[0m\u001b[0;36m90\u001b[0m\u001b[0;34m)\u001b[0m\u001b[0;34m;\u001b[0m\u001b[0;34m\u001b[0m\u001b[0m\n",
      "\u001b[0;31mNameError\u001b[0m: name 'df' is not defined"
     ]
    }
   ],
   "source": [
    "#pl.figure(figsize=(15,5))\n",
    "pl.bar(df.groupby('day_of_week').size().sort_values(ascending=False).keys(),\n",
    "       np.array(df.groupby('day_of_week').size().sort_values(ascending=False)))\n",
    "pl.xticks(rotation=90);"
   ]
  },
  {
   "cell_type": "code",
   "execution_count": 285,
   "metadata": {},
   "outputs": [
    {
     "data": {
      "image/png": "[encoded data removed]",
      "text/plain": [
       "<Figure size 720x288 with 1 Axes>"
      ]
     },
     "metadata": {},
     "output_type": "display_data"
    }
   ],
   "source": [
    "pl.figure(figsize=(10,4))\n",
    "pl.bar(df[(df.day_of_week!='SABADO')&(df.day_of_week!='DOMINGO')].groupby('time').size().keys(),\n",
    "       df[(df.day_of_week!='SABADO')&(df.day_of_week!='DOMINGO')].groupby('time').size())\n",
    "pl.xticks(range(0,24))\n",
    "pl.title('Histogram for hour of the workday');"
   ]
  },
  {
   "cell_type": "code",
   "execution_count": 286,
   "metadata": {},
   "outputs": [
    {
     "data": {
      "image/png": "[encoded data removed]",
      "text/plain": [
       "<Figure size 720x288 with 1 Axes>"
      ]
     },
     "metadata": {},
     "output_type": "display_data"
    }
   ],
   "source": [
    "pl.figure(figsize=(10,4))\n",
    "pl.bar(df[(df.day_of_week=='SABADO')|(df.day_of_week=='DOMINGO')].groupby('time').size().keys(),\n",
    "       df[(df.day_of_week=='SABADO')|(df.day_of_week=='DOMINGO')].groupby('time').size())\n",
    "pl.xticks(range(0,24))\n",
    "pl.title('Histogram for hour of the weekend');"
   ]
  },
  {
   "cell_type": "code",
   "execution_count": 23,
   "metadata": {},
   "outputs": [],
   "source": [
    "df.borough = df.borough.apply(lambda x: x.lower())"
   ]
  },
  {
   "cell_type": "code",
   "execution_count": 24,
   "metadata": {},
   "outputs": [],
   "source": [
    "df_pop.NOM_LOC = df_pop.NOM_LOC.apply(lambda x: x.lower())"
   ]
  },
  {
   "cell_type": "code",
   "execution_count": 25,
   "metadata": {},
   "outputs": [],
   "source": [
    "df_pop.NOM_LOC = df_pop.NOM_LOC.replace(to_replace = ['coyoacán', 'cuauhtémoc', 'benito juárez', 'álvaro obregón',\n",
    "                                                      'tláhuac'], \n",
    "                                        value = ['coyoacan', 'cuauhtemoc', 'benito juarez', 'alvaro obregon', \n",
    "                                                 'tlahuac'])"
   ]
  },
  {
   "cell_type": "code",
   "execution_count": 26,
   "metadata": {},
   "outputs": [],
   "source": [
    "df.borough = df.borough.replace(to_replace = ['cuajimalpa', 'gustavoa.madero','gustavo a madero'],\n",
    "                  value = ['cuajimalpa de morelos', 'gustavo a.madero','gustavo a. madero'])"
   ]
  },
  {
   "cell_type": "code",
   "execution_count": 27,
   "metadata": {},
   "outputs": [],
   "source": [
    "boro = {}"
   ]
  },
  {
   "cell_type": "code",
   "execution_count": 28,
   "metadata": {},
   "outputs": [],
   "source": [
    "boro = boro.fromkeys(df.groupby('borough').size().sort_values(ascending=False).head(17).keys())"
   ]
  },
  {
   "cell_type": "code",
   "execution_count": 29,
   "metadata": {},
   "outputs": [],
   "source": [
    "boro.pop('\\\\n')"
   ]
  },
  {
   "cell_type": "code",
   "execution_count": 30,
   "metadata": {},
   "outputs": [],
   "source": [
    "accidents = np.array(df.groupby('borough').size().sort_values(ascending=False).head(17))"
   ]
  },
  {
   "cell_type": "code",
   "execution_count": 31,
   "metadata": {},
   "outputs": [
    {
     "ename": "TypeError",
     "evalue": "cannot convert the series to <type 'int'>",
     "output_type": "error",
     "traceback": [
      "\u001b[0;31m---------------------------------------------------------------------------\u001b[0m",
      "\u001b[0;31mTypeError\u001b[0m                                 Traceback (most recent call last)",
      "\u001b[0;32m<ipython-input-31-cda9c7a501bd>\u001b[0m in \u001b[0;36m<module>\u001b[0;34m()\u001b[0m\n\u001b[1;32m      1\u001b[0m \u001b[0;32mfor\u001b[0m \u001b[0mi\u001b[0m \u001b[0;32min\u001b[0m \u001b[0mrange\u001b[0m\u001b[0;34m(\u001b[0m\u001b[0;36m0\u001b[0m\u001b[0;34m,\u001b[0m \u001b[0mlen\u001b[0m\u001b[0;34m(\u001b[0m\u001b[0mboro\u001b[0m\u001b[0;34m)\u001b[0m\u001b[0;34m)\u001b[0m\u001b[0;34m:\u001b[0m\u001b[0;34m\u001b[0m\u001b[0m\n\u001b[1;32m      2\u001b[0m     \u001b[0;32mif\u001b[0m \u001b[0;34m(\u001b[0m\u001b[0;34m(\u001b[0m\u001b[0mlist\u001b[0m\u001b[0;34m(\u001b[0m\u001b[0mboro\u001b[0m\u001b[0;34m.\u001b[0m\u001b[0mkeys\u001b[0m\u001b[0;34m(\u001b[0m\u001b[0;34m)\u001b[0m\u001b[0;34m)\u001b[0m\u001b[0;34m[\u001b[0m\u001b[0mi\u001b[0m\u001b[0;34m]\u001b[0m\u001b[0;34m!=\u001b[0m\u001b[0;34m'\\\\n'\u001b[0m\u001b[0;34m)\u001b[0m\u001b[0;34m&\u001b[0m\u001b[0;34m(\u001b[0m\u001b[0mlist\u001b[0m\u001b[0;34m(\u001b[0m\u001b[0mboro\u001b[0m\u001b[0;34m.\u001b[0m\u001b[0mkeys\u001b[0m\u001b[0;34m(\u001b[0m\u001b[0;34m)\u001b[0m\u001b[0;34m)\u001b[0m\u001b[0;34m[\u001b[0m\u001b[0mi\u001b[0m\u001b[0;34m]\u001b[0m\u001b[0;34m!=\u001b[0m\u001b[0;34m'milpa alta'\u001b[0m\u001b[0;34m)\u001b[0m\u001b[0;34m)\u001b[0m\u001b[0;34m:\u001b[0m\u001b[0;34m\u001b[0m\u001b[0m\n\u001b[0;32m----> 3\u001b[0;31m         \u001b[0mboro\u001b[0m\u001b[0;34m[\u001b[0m\u001b[0mlist\u001b[0m\u001b[0;34m(\u001b[0m\u001b[0mboro\u001b[0m\u001b[0;34m.\u001b[0m\u001b[0mkeys\u001b[0m\u001b[0;34m(\u001b[0m\u001b[0;34m)\u001b[0m\u001b[0;34m)\u001b[0m\u001b[0;34m[\u001b[0m\u001b[0mi\u001b[0m\u001b[0;34m]\u001b[0m\u001b[0;34m]\u001b[0m\u001b[0;34m=\u001b[0m\u001b[0mint\u001b[0m\u001b[0;34m(\u001b[0m\u001b[0maccidents\u001b[0m\u001b[0;34m[\u001b[0m\u001b[0mi\u001b[0m\u001b[0;34m]\u001b[0m\u001b[0;34m*\u001b[0m\u001b[0;36m100000\u001b[0m\u001b[0;34m/\u001b[0m\u001b[0mint\u001b[0m\u001b[0;34m(\u001b[0m\u001b[0mdf_pop\u001b[0m\u001b[0;34m[\u001b[0m\u001b[0mdf_pop\u001b[0m\u001b[0;34m.\u001b[0m\u001b[0mNOM_LOC\u001b[0m \u001b[0;34m==\u001b[0m \u001b[0mlist\u001b[0m\u001b[0;34m(\u001b[0m\u001b[0mboro\u001b[0m\u001b[0;34m.\u001b[0m\u001b[0mkeys\u001b[0m\u001b[0;34m(\u001b[0m\u001b[0;34m)\u001b[0m\u001b[0;34m)\u001b[0m\u001b[0;34m[\u001b[0m\u001b[0mi\u001b[0m\u001b[0;34m]\u001b[0m\u001b[0;34m]\u001b[0m\u001b[0;34m.\u001b[0m\u001b[0mP_TOTAL\u001b[0m\u001b[0;34m)\u001b[0m\u001b[0;34m)\u001b[0m\u001b[0;34m\u001b[0m\u001b[0m\n\u001b[0m\u001b[1;32m      4\u001b[0m     \u001b[0;32melif\u001b[0m \u001b[0mlist\u001b[0m\u001b[0;34m(\u001b[0m\u001b[0mboro\u001b[0m\u001b[0;34m.\u001b[0m\u001b[0mkeys\u001b[0m\u001b[0;34m(\u001b[0m\u001b[0;34m)\u001b[0m\u001b[0;34m)\u001b[0m\u001b[0;34m[\u001b[0m\u001b[0mi\u001b[0m\u001b[0;34m]\u001b[0m\u001b[0;34m==\u001b[0m\u001b[0;34m'milpa alta'\u001b[0m\u001b[0;34m:\u001b[0m\u001b[0;34m\u001b[0m\u001b[0m\n\u001b[1;32m      5\u001b[0m         \u001b[0mboro\u001b[0m\u001b[0;34m[\u001b[0m\u001b[0mlist\u001b[0m\u001b[0;34m(\u001b[0m\u001b[0mboro\u001b[0m\u001b[0;34m.\u001b[0m\u001b[0mkeys\u001b[0m\u001b[0;34m(\u001b[0m\u001b[0;34m)\u001b[0m\u001b[0;34m)\u001b[0m\u001b[0;34m[\u001b[0m\u001b[0mi\u001b[0m\u001b[0;34m]\u001b[0m\u001b[0;34m]\u001b[0m\u001b[0;34m=\u001b[0m\u001b[0mint\u001b[0m\u001b[0;34m(\u001b[0m\u001b[0maccidents\u001b[0m\u001b[0;34m[\u001b[0m\u001b[0mi\u001b[0m\u001b[0;34m]\u001b[0m\u001b[0;34m*\u001b[0m\u001b[0;36m100000\u001b[0m\u001b[0;34m/\u001b[0m\u001b[0;36m130582\u001b[0m\u001b[0;34m)\u001b[0m\u001b[0;34m\u001b[0m\u001b[0m\n",
      "\u001b[0;32m/Users/gerova/anaconda3/envs/py2/lib/python2.7/site-packages/pandas/core/series.pyc\u001b[0m in \u001b[0;36mwrapper\u001b[0;34m(self)\u001b[0m\n\u001b[1;32m     95\u001b[0m             \u001b[0;32mreturn\u001b[0m \u001b[0mconverter\u001b[0m\u001b[0;34m(\u001b[0m\u001b[0mself\u001b[0m\u001b[0;34m.\u001b[0m\u001b[0miloc\u001b[0m\u001b[0;34m[\u001b[0m\u001b[0;36m0\u001b[0m\u001b[0;34m]\u001b[0m\u001b[0;34m)\u001b[0m\u001b[0;34m\u001b[0m\u001b[0m\n\u001b[1;32m     96\u001b[0m         raise TypeError(\"cannot convert the series to \"\n\u001b[0;32m---> 97\u001b[0;31m                         \"{0}\".format(str(converter)))\n\u001b[0m\u001b[1;32m     98\u001b[0m \u001b[0;34m\u001b[0m\u001b[0m\n\u001b[1;32m     99\u001b[0m     \u001b[0;32mreturn\u001b[0m \u001b[0mwrapper\u001b[0m\u001b[0;34m\u001b[0m\u001b[0m\n",
      "\u001b[0;31mTypeError\u001b[0m: cannot convert the series to <type 'int'>"
     ]
    }
   ],
   "source": [
    "for i in range(0, len(boro)):\n",
    "    if ((list(boro.keys())[i]!='\\\\n')&(list(boro.keys())[i]!='milpa alta')):\n",
    "        boro[list(boro.keys())[i]]=int(accidents[i]*100000/int(df_pop[df_pop.NOM_LOC == list(boro.keys())[i]].P_TOTAL))\n",
    "    elif list(boro.keys())[i]=='milpa alta':\n",
    "        boro[list(boro.keys())[i]]=int(accidents[i]*100000/130582)"
   ]
  },
  {
   "cell_type": "code",
   "execution_count": 580,
   "metadata": {},
   "outputs": [
    {
     "data": {
      "image/png": "[encoded data removed]",
      "text/plain": [
       "<Figure size 1080x360 with 1 Axes>"
      ]
     },
     "metadata": {},
     "output_type": "display_data"
    }
   ],
   "source": [
    "pl.figure(figsize=(15,5))\n",
    "pl.bar(df.groupby('neighbourhood').size().sort_values(ascending=False).head(30).keys()[1:],\n",
    "       np.array(df.groupby('neighbourhood').size().sort_values(ascending=False).head(30))[1:])\n",
    "pl.xticks(rotation=90);"
   ]
  },
  {
   "cell_type": "code",
   "execution_count": 581,
   "metadata": {},
   "outputs": [
    {
     "data": {
      "image/png": "[encoded data removed]",
      "text/plain": [
       "<Figure size 1080x360 with 1 Axes>"
      ]
     },
     "metadata": {},
     "output_type": "display_data"
    }
   ],
   "source": [
    "pl.figure(figsize=(15,5))\n",
    "pl.bar(pd.DataFrame.from_dict(boro, orient='index', \n",
    "                              columns=['value']).sort_values('value',ascending=False).index.values.tolist()\n",
    "    ,list(pd.DataFrame.from_dict(boro, orient='index', columns=['value']).sort_values('value',ascending=False).value))\n",
    "pl.xticks(rotation=90)\n",
    "pl.ylabel('Accidents per 100,000 habitants');"
   ]
  },
  {
   "cell_type": "code",
   "execution_count": 32,
   "metadata": {},
   "outputs": [],
   "source": [
    "agem = {2:'azcapotzalco', 3: 'coyoacan', 4: 'cuajimalpa',\n",
    "        5: 'gustavo a. madero', 6: 'iztacalco', 7:'iztapalapa',\n",
    "       8: 'la magdalena contreras', 9: 'milpa alta', 10: 'alvaro obregon',\n",
    "       11: 'tlahuac', 12: 'tlalpan', 13: 'xochimilco', 14: 'benito juarez',\n",
    "       15: 'cuauhtemoc', 16: 'miguel hidalgo', 17: 'venustiano carranza'}"
   ]
  },
  {
   "cell_type": "code",
   "execution_count": 33,
   "metadata": {},
   "outputs": [],
   "source": [
    "month = {'ENERO': 1, 'FEBRERO': 2, 'MARZO': 3, 'ABRIL': 4, 'MAYO': 5, 'JUNIO': 6, 'JULIO': 7, 'AGOSTO': 8,\n",
    "        'SEPTIEMBRE': 9, 'OCTUBRE': 10, 'NOVIEMBRE': 11, 'DICIEMBRE': 12}"
   ]
  },
  {
   "cell_type": "code",
   "execution_count": 34,
   "metadata": {},
   "outputs": [],
   "source": [
    "df.month = df.month.replace(to_replace = list(month.keys()), value = list(month.values()))"
   ]
  },
  {
   "cell_type": "code",
   "execution_count": 753,
   "metadata": {},
   "outputs": [],
   "source": [
    "df_atus.ID_MUNICIPIO = df_atus.ID_MUNICIPIO.replace(to_replace = list(agem.keys()), value = list(agem.values()))"
   ]
  },
  {
   "cell_type": "code",
   "execution_count": 566,
   "metadata": {},
   "outputs": [],
   "source": [
    "df_atus['dead'] = (df_atus.NEMUERTO!=0)|(df_atus.OTROMUERTO!=0)|(df_atus.PASAMUERTO!=0)|(df_atus.PEATMUERTO!=0)|(df_atus.CICLMUERTO!=0)"
   ]
  },
  {
   "cell_type": "code",
   "execution_count": 35,
   "metadata": {},
   "outputs": [],
   "source": [
    "df['datetime'] = list(map(lambda t,d,m,y: str(t)+':00 '+str(d)+'/'+str(m)+'/'+str(y), \n",
    "                          df.time,df.day,df.month,df.year))"
   ]
  },
  {
   "cell_type": "code",
   "execution_count": 756,
   "metadata": {},
   "outputs": [],
   "source": [
    "df_atus['datetime'] = list(map(lambda t,d,m,y: str(t)+':00 '+str(d)+'/'+str(m)+'/'+str(y), \n",
    "                         df_atus.ID_HORA, df_atus.ID_DIA, df_atus.MES, df_atus.ANIO))"
   ]
  },
  {
   "cell_type": "markdown",
   "metadata": {},
   "source": [
    "match = list(map(lambda y: list(filter(lambda x: y==x, df_atus[df_atus.ID_MUNICIPIO==b].datetime)), \n",
    "                       df[df.borough==b].datetime))"
   ]
  },
  {
   "cell_type": "code",
   "execution_count": 799,
   "metadata": {},
   "outputs": [
    {
     "data": {
      "text/plain": [
       "Text(0.5,0,'age')"
      ]
     },
     "execution_count": 799,
     "metadata": {},
     "output_type": "execute_result"
    },
    {
     "data": {
      "image/png": "[encoded data removed]",
      "text/plain": [
       "<Figure size 432x288 with 1 Axes>"
      ]
     },
     "metadata": {},
     "output_type": "display_data"
    }
   ],
   "source": [
    "pl.bar(list(df.groupby('age').size().keys())[2:-1],\n",
    "        list(df.groupby('age').size())[2:-1])\n",
    "pl.xlabel('age')"
   ]
  },
  {
   "cell_type": "code",
   "execution_count": 36,
   "metadata": {},
   "outputs": [],
   "source": [
    "df.dead = df.dead.replace(to_replace=['NO','SI'], value=[int(0),int(1)])"
   ]
  },
  {
   "cell_type": "code",
   "execution_count": 55,
   "metadata": {},
   "outputs": [],
   "source": [
    "df_red = df.drop(['accident','cartodb_id','color','latitud','location','longitud','model','state',\n",
    "                  'street', 'neighbourhood','the_geom', 'borough','the_geom_w','year','zip_code',\n",
    "                  'datetime', 'relation','crane','infrastructure_works', 'insurance', 'month',\n",
    "                  'injury_level','gender'], axis=1)"
   ]
  },
  {
   "cell_type": "code",
   "execution_count": 56,
   "metadata": {},
   "outputs": [
    {
     "data": {
      "text/plain": [
       "Index([u'age', u'alcohol', u'ambulance', u'animal', u'bike', u'cause',\n",
       "       u'damage_level', u'day', u'day_of_week', u'dead', u'driver', u'escape',\n",
       "       u'explosion', u'hospitalized', u'impact_on', u'injured', u'loss',\n",
       "       u'motorbike', u'pavement', u'rock', u'rollover', u'sleeping', u'taxi',\n",
       "       u'time', u'tree', u'vehicle'],\n",
       "      dtype='object')"
      ]
     },
     "execution_count": 56,
     "metadata": {},
     "output_type": "execute_result"
    }
   ],
   "source": [
    "df_red.columns"
   ]
  },
  {
   "cell_type": "code",
   "execution_count": 57,
   "metadata": {},
   "outputs": [],
   "source": [
    "df_red = df_red.replace(to_replace='\\\\N', value=np.nan)"
   ]
  },
  {
   "cell_type": "code",
   "execution_count": 58,
   "metadata": {},
   "outputs": [],
   "source": [
    "df_red_1 = df_red.drop(['dead'],axis=1)"
   ]
  },
  {
   "cell_type": "code",
   "execution_count": 59,
   "metadata": {},
   "outputs": [],
   "source": [
    "df_red_1 = df_red_1.dropna(how = 'any',axis=0)"
   ]
  },
  {
   "cell_type": "code",
   "execution_count": 60,
   "metadata": {},
   "outputs": [],
   "source": [
    "df_red_2 = df_red_1.join(df_red[['dead']], how='left')"
   ]
  },
  {
   "cell_type": "code",
   "execution_count": 61,
   "metadata": {},
   "outputs": [],
   "source": [
    "data_Unlabeled = df_red_2[np.isnan(df_red_2.dead)]"
   ]
  },
  {
   "cell_type": "code",
   "execution_count": 62,
   "metadata": {},
   "outputs": [],
   "source": [
    "data = df_red_2[(df_red_2.dead==0)|(df_red_2.dead==1)]"
   ]
  },
  {
   "cell_type": "code",
   "execution_count": 63,
   "metadata": {},
   "outputs": [],
   "source": [
    "X_Labeled_train, X_Labeled_test, y_Labeled_train, y_Labeled_test = train_test_split(data.drop('dead',axis=1),\n",
    "                                                    data.dead, test_size=0.33, random_state=42)"
   ]
  },
  {
   "cell_type": "code",
   "execution_count": 64,
   "metadata": {},
   "outputs": [],
   "source": [
    "def trainNaiveBayesDiscrete(X,y):\n",
    "    prior = 1.*y.sum()/y.count()\n",
    "    nbc = {'prior':prior}\n",
    "    X_1 = X[y==1]\n",
    "    X_0 = X[y==0]\n",
    "    for j in X.columns:\n",
    "        nbc[j+'_1'] = X_1[j].value_counts(normalize=True)\n",
    "        nbc[j+'_0'] = X_0[j].value_counts(normalize=True)\n",
    "    return nbc\n",
    "\n",
    "def testNaiveBayesDiscrete(X,nbc):\n",
    "    y_pred = pd.Series(index=X.index)\n",
    "    for i in X.index:\n",
    "        # compute odds of y=1\n",
    "        y_pred[i] = nbc['prior']/(1-nbc['prior']) # prior odds\n",
    "        for j in X.columns:\n",
    "            thevalue = X.loc[i,j]\n",
    "            if thevalue not in nbc[j+'_1']:\n",
    "                y_pred[i] = y_pred[i]*1E-3\n",
    "            if thevalue not in nbc[j+'_0']:\n",
    "                y_pred[i] = y_pred[i]*1E3\n",
    "            if (thevalue in nbc[j+'_1']) & (thevalue in nbc[j+'_0']):\n",
    "                y_pred[i] = y_pred[i]*(nbc[j+'_1'][thevalue]+1E-3)/(nbc[j+'_0'][thevalue]+1E-3)\n",
    "        # convert odds to probability of y=1\n",
    "        y_pred[i] = y_pred[i]/(1.0+y_pred[i])\n",
    "    return y_pred"
   ]
  },
  {
   "cell_type": "code",
   "execution_count": 65,
   "metadata": {
    "scrolled": false
   },
   "outputs": [
    {
     "name": "stdout",
     "output_type": "stream",
     "text": [
      "motorbike_1\n",
      "0    0.956522\n",
      "1    0.043478\n",
      "Name: motorbike, dtype: float64\n",
      "\n",
      "impact_on_0\n",
      "Frontal                  0.429037\n",
      "Trasero                  0.315943\n",
      "Cofre                    0.059805\n",
      "Costado der delantero    0.051831\n",
      "Costado izq delantero    0.046920\n",
      "Costado izq trasero      0.024116\n",
      "Costado izq central      0.023095\n",
      "Costado der trasero      0.022463\n",
      "Costado der central      0.021539\n",
      "Parte baja               0.003015\n",
      "Toldo                    0.001313\n",
      "Tapa cajuela             0.000924\n",
      "Name: impact_on, dtype: float64\n",
      "\n",
      "tree_1\n",
      "0    1.0\n",
      "Name: tree, dtype: float64\n",
      "\n",
      "taxi_1\n",
      "0    1.0\n",
      "Name: taxi, dtype: float64\n",
      "\n",
      "impact_on_1\n",
      "Frontal                  0.543478\n",
      "Cofre                    0.173913\n",
      "Costado der trasero      0.086957\n",
      "Trasero                  0.065217\n",
      "Costado der delantero    0.043478\n",
      "Costado izq delantero    0.021739\n",
      "Costado izq trasero      0.021739\n",
      "Costado izq central      0.021739\n",
      "Costado der central      0.021739\n",
      "Name: impact_on, dtype: float64\n",
      "\n",
      "animal_1\n",
      "0    1.0\n",
      "Name: animal, dtype: float64\n",
      "\n",
      "ambulance_1\n",
      "0    1.0\n",
      "Name: ambulance, dtype: float64\n",
      "\n",
      "bike_0\n",
      "0    0.998395\n",
      "1    0.001605\n",
      "Name: bike, dtype: float64\n",
      "\n",
      "bike_1\n",
      "0    1.0\n",
      "Name: bike, dtype: float64\n",
      "\n",
      "sleeping_0\n",
      "0    0.999951\n",
      "1    0.000049\n",
      "Name: sleeping, dtype: float64\n",
      "\n",
      "sleeping_1\n",
      "0    1.0\n",
      "Name: sleeping, dtype: float64\n",
      "\n",
      "loss_0\n",
      "0    0.995235\n",
      "1    0.004765\n",
      "Name: loss, dtype: float64\n",
      "\n",
      "loss_1\n",
      "0    1.0\n",
      "Name: loss, dtype: float64\n",
      "\n",
      "cause_1\n",
      "COLISION Y/O VUELCO    0.608696\n",
      "ATROPELLO              0.391304\n",
      "Name: cause, dtype: float64\n",
      "\n",
      "cause_0\n",
      "COLISION Y/O VUELCO          0.976856\n",
      "ATROPELLO                    0.022415\n",
      "DAÑOS POR LA CARGA           0.000389\n",
      "HUELGAS Y ALBOROTOS          0.000243\n",
      "TRANSPORTACION               0.000049\n",
      "INCENDIO RAYO O EXPLOSION    0.000049\n",
      "Name: cause, dtype: float64\n",
      "\n",
      "day_of_week_1\n",
      "LUNES        0.260870\n",
      "JUEVES       0.173913\n",
      "MIERCOLES    0.173913\n",
      "DOMINGO      0.152174\n",
      "MARTES       0.086957\n",
      "SABADO       0.086957\n",
      "VIERNES      0.065217\n",
      "Name: day_of_week, dtype: float64\n",
      "\n",
      "day_of_week_0\n",
      "MARTES       0.165605\n",
      "VIERNES      0.163077\n",
      "JUEVES       0.149609\n",
      "MIERCOLES    0.149122\n",
      "LUNES        0.147080\n",
      "SABADO       0.131230\n",
      "DOMINGO      0.094277\n",
      "Name: day_of_week, dtype: float64\n",
      "\n",
      "vehicle_0\n",
      "Auto             0.905334\n",
      "Camión           0.079302\n",
      "Camión Ligero    0.008120\n",
      "Motocicleta      0.007245\n",
      "Name: vehicle, dtype: float64\n",
      "\n",
      "day_0\n",
      "9     0.036612\n",
      "5     0.035688\n",
      "11    0.035688\n",
      "15    0.035445\n",
      "23    0.035056\n",
      "12    0.034862\n",
      "28    0.034570\n",
      "8     0.034521\n",
      "14    0.034084\n",
      "22    0.034084\n",
      "27    0.034035\n",
      "4     0.033889\n",
      "19    0.033257\n",
      "18    0.033209\n",
      "21    0.033111\n",
      "2     0.032625\n",
      "13    0.032042\n",
      "26    0.031896\n",
      "20    0.031896\n",
      "6     0.031799\n",
      "10    0.031750\n",
      "25    0.031604\n",
      "17    0.031264\n",
      "24    0.031118\n",
      "7     0.030388\n",
      "1     0.030388\n",
      "29    0.029708\n",
      "3     0.029416\n",
      "30    0.029173\n",
      "16    0.028881\n",
      "31    0.017941\n",
      "Name: day, dtype: float64\n",
      "\n",
      "day_1\n",
      "22    0.108696\n",
      "18    0.086957\n",
      "3     0.086957\n",
      "4     0.086957\n",
      "11    0.086957\n",
      "25    0.065217\n",
      "10    0.065217\n",
      "29    0.043478\n",
      "13    0.043478\n",
      "30    0.043478\n",
      "20    0.043478\n",
      "23    0.043478\n",
      "19    0.021739\n",
      "14    0.021739\n",
      "21    0.021739\n",
      "8     0.021739\n",
      "6     0.021739\n",
      "5     0.021739\n",
      "26    0.021739\n",
      "28    0.021739\n",
      "1     0.021739\n",
      "Name: day, dtype: float64\n",
      "\n",
      "escape_0\n",
      "0    0.979384\n",
      "1    0.020616\n",
      "Name: escape, dtype: float64\n",
      "\n",
      "escape_1\n",
      "0    1.0\n",
      "Name: escape, dtype: float64\n",
      "\n",
      "time_0\n",
      "8     0.077162\n",
      "15    0.074148\n",
      "9     0.068605\n",
      "14    0.063451\n",
      "16    0.060485\n",
      "19    0.059756\n",
      "18    0.059513\n",
      "20    0.058054\n",
      "13    0.055963\n",
      "17    0.054310\n",
      "7     0.051879\n",
      "10    0.051053\n",
      "21    0.048427\n",
      "12    0.047357\n",
      "11    0.047260\n",
      "22    0.031555\n",
      "6     0.022123\n",
      "23    0.020859\n",
      "0     0.014100\n",
      "1     0.009287\n",
      "2     0.007196\n",
      "5     0.006272\n",
      "4     0.005980\n",
      "3     0.005203\n",
      "Name: time, dtype: float64\n",
      "\n",
      "tree_0\n",
      "0    0.999173\n",
      "1    0.000827\n",
      "Name: tree, dtype: float64\n",
      "\n",
      "vehicle_1\n",
      "Auto             0.586957\n",
      "Camión           0.369565\n",
      "Camión Ligero    0.021739\n",
      "Motocicleta      0.021739\n",
      "Name: vehicle, dtype: float64\n",
      "\n",
      "hospitalized_1\n",
      "NO    0.978261\n",
      "SI    0.021739\n",
      "Name: hospitalized, dtype: float64\n",
      "\n",
      "hospitalized_0\n",
      "SI    0.644674\n",
      "NO    0.355326\n",
      "Name: hospitalized, dtype: float64\n",
      "\n",
      "rollover_0\n",
      "0    0.997763\n",
      "1    0.002237\n",
      "Name: rollover, dtype: float64\n",
      "\n",
      "rollover_1\n",
      "0    1.0\n",
      "Name: rollover, dtype: float64\n",
      "\n",
      "alcohol_0\n",
      "0    0.999757\n",
      "1    0.000243\n",
      "Name: alcohol, dtype: float64\n",
      "\n",
      "alcohol_1\n",
      "0    1.0\n",
      "Name: alcohol, dtype: float64\n",
      "\n",
      "age_1\n",
      "0     0.369565\n",
      "47    0.065217\n",
      "22    0.043478\n",
      "20    0.043478\n",
      "60    0.043478\n",
      "3     0.021739\n",
      "68    0.021739\n",
      "70    0.021739\n",
      "75    0.021739\n",
      "77    0.021739\n",
      "37    0.021739\n",
      "83    0.021739\n",
      "21    0.021739\n",
      "84    0.021739\n",
      "25    0.021739\n",
      "29    0.021739\n",
      "32    0.021739\n",
      "35    0.021739\n",
      "4     0.021739\n",
      "38    0.021739\n",
      "40    0.021739\n",
      "43    0.021739\n",
      "50    0.021739\n",
      "54    0.021739\n",
      "26    0.021739\n",
      "Name: age, dtype: float64\n",
      "\n",
      "age_0\n",
      " 30     0.029951\n",
      " 35     0.029367\n",
      " 28     0.028833\n",
      " 31     0.027228\n",
      " 32     0.026985\n",
      " 33     0.026936\n",
      " 36     0.026839\n",
      " 40     0.026158\n",
      " 37     0.025235\n",
      " 29     0.025040\n",
      " 38     0.024991\n",
      " 42     0.024894\n",
      " 26     0.024603\n",
      " 34     0.024554\n",
      " 25     0.023970\n",
      " 39     0.022609\n",
      " 27     0.022269\n",
      " 41     0.021053\n",
      " 43     0.020956\n",
      " 45     0.020713\n",
      " 24     0.019935\n",
      " 44     0.019254\n",
      " 46     0.019206\n",
      " 22     0.018768\n",
      " 50     0.018184\n",
      " 23     0.017844\n",
      " 47     0.016969\n",
      " 21     0.016240\n",
      " 49     0.015413\n",
      " 20     0.015219\n",
      "          ...   \n",
      " 68     0.003501\n",
      " 69     0.003258\n",
      " 70     0.003258\n",
      " 72     0.002917\n",
      " 71     0.002431\n",
      " 75     0.002188\n",
      " 73     0.002188\n",
      " 76     0.001799\n",
      " 74     0.001264\n",
      " 78     0.001167\n",
      " 77     0.001118\n",
      " 79     0.001021\n",
      " 81     0.000778\n",
      " 80     0.000729\n",
      " 83     0.000583\n",
      " 88     0.000486\n",
      " 84     0.000438\n",
      " 85     0.000438\n",
      " 82     0.000389\n",
      " 86     0.000340\n",
      " 87     0.000292\n",
      " 91     0.000292\n",
      " 90     0.000243\n",
      "-1      0.000146\n",
      " 89     0.000146\n",
      " 95     0.000097\n",
      " 98     0.000049\n",
      " 97     0.000049\n",
      " 300    0.000049\n",
      " 99     0.000049\n",
      "Name: age, Length: 98, dtype: float64\n",
      "\n",
      "taxi_0\n",
      "0    0.987164\n",
      "1    0.012836\n",
      "Name: taxi, dtype: float64\n",
      "\n",
      "time_1\n",
      "6     0.173913\n",
      "16    0.086957\n",
      "12    0.086957\n",
      "13    0.065217\n",
      "9     0.065217\n",
      "10    0.043478\n",
      "1     0.043478\n",
      "18    0.043478\n",
      "15    0.043478\n",
      "11    0.043478\n",
      "21    0.043478\n",
      "8     0.043478\n",
      "5     0.043478\n",
      "4     0.021739\n",
      "2     0.021739\n",
      "3     0.021739\n",
      "22    0.021739\n",
      "7     0.021739\n",
      "17    0.021739\n",
      "19    0.021739\n",
      "0     0.021739\n",
      "Name: time, dtype: float64\n",
      "\n",
      "rock_0\n",
      "0    0.999903\n",
      "1    0.000097\n",
      "Name: rock, dtype: float64\n",
      "\n",
      "rock_1\n",
      "0    1.0\n",
      "Name: rock, dtype: float64\n",
      "\n",
      "injured_1\n",
      "1    0.521739\n",
      "2    0.217391\n",
      "3    0.130435\n",
      "4    0.108696\n",
      "6    0.021739\n",
      "Name: injured, dtype: float64\n",
      "\n",
      "injured_0\n",
      "1     0.491661\n",
      "2     0.286624\n",
      "3     0.115817\n",
      "4     0.057276\n",
      "5     0.026110\n",
      "6     0.010745\n",
      "8     0.003501\n",
      "7     0.003404\n",
      "9     0.001945\n",
      "24    0.000875\n",
      "13    0.000778\n",
      "10    0.000778\n",
      "15    0.000486\n",
      "Name: injured, dtype: float64\n",
      "\n",
      "pavement_1\n",
      "0    1.0\n",
      "Name: pavement, dtype: float64\n",
      "\n",
      "pavement_0\n",
      "0    0.999806\n",
      "1    0.000194\n",
      "Name: pavement, dtype: float64\n",
      "\n",
      "damage_level_1\n",
      "Sin daño    0.456522\n",
      "Bajo        0.326087\n",
      "Alto        0.152174\n",
      "Medio       0.065217\n",
      "Name: damage_level, dtype: float64\n",
      "\n",
      "damage_level_0\n",
      "Bajo        0.644674\n",
      "Sin daño    0.247581\n",
      "Medio       0.088783\n",
      "Alto        0.018962\n",
      "Name: damage_level, dtype: float64\n",
      "\n",
      "explosion_1\n",
      "0    1.0\n",
      "Name: explosion, dtype: float64\n",
      "\n",
      "prior\n",
      "0.00223160141658\n",
      "\n",
      "explosion_0\n",
      "0    0.999708\n",
      "1    0.000292\n",
      "Name: explosion, dtype: float64\n",
      "\n",
      "ambulance_0\n",
      "0    0.983615\n",
      "1    0.016385\n",
      "Name: ambulance, dtype: float64\n",
      "\n",
      "driver_1\n",
      "0    1.0\n",
      "Name: driver, dtype: float64\n",
      "\n",
      "driver_0\n",
      "0    1.0\n",
      "Name: driver, dtype: float64\n",
      "\n",
      "motorbike_0\n",
      "0    0.986921\n",
      "1    0.013079\n",
      "Name: motorbike, dtype: float64\n",
      "\n",
      "animal_0\n",
      "0    1.0\n",
      "Name: animal, dtype: float64\n",
      "\n",
      "In sample prediction accuracy: 0.998059477029\n",
      "Out of sample prediction accuracy: 0.9968482222\n",
      "Log-likelihood (train): -126.535212125\n",
      "Log-likelihood (test): -219.127180208\n"
     ]
    }
   ],
   "source": [
    "naive_bayes_classifier = trainNaiveBayesDiscrete(X_Labeled_train,y_Labeled_train)\n",
    "for i,j in naive_bayes_classifier.items():\n",
    "    print i\n",
    "    print j\n",
    "    print\n",
    "y_pred_train = testNaiveBayesDiscrete(X_Labeled_train,naive_bayes_classifier)\n",
    "y_pred_test = testNaiveBayesDiscrete(X_Labeled_test,naive_bayes_classifier)\n",
    "\n",
    "# measure accuracy for the binary prediction task\n",
    "print 'In sample prediction accuracy:',1.0*sum((y_pred_train>0.5)==y_Labeled_train)/len(y_Labeled_train)\n",
    "print 'Out of sample prediction accuracy:',1.0*sum((y_pred_test>0.5)==y_Labeled_test)/len(y_Labeled_test)\n",
    "\n",
    "# measure accuracy of the predicted probabilities\n",
    "print 'Log-likelihood (train):',sum(np.log(y_pred_train*y_Labeled_train+(1-y_pred_train)*(1-y_Labeled_train)))\n",
    "print 'Log-likelihood (test):',sum(np.log(y_pred_test*y_Labeled_test+(1-y_pred_test)*(1-y_Labeled_test)))"
   ]
  },
  {
   "cell_type": "code",
   "execution_count": 68,
   "metadata": {},
   "outputs": [],
   "source": [
    "def initializeNaiveBayesRandom(X_Unlabeled):\n",
    "    nbc = {'prior':0.5}\n",
    "    for j in X_Unlabeled.columns:\n",
    "        thevalues = X_Unlabeled[j].unique()\n",
    "        nbc[j+'_1'] = {}\n",
    "        nbc[j+'_0'] = {}\n",
    "        for jj in thevalues:\n",
    "            nbc[j+'_1'][jj] = np.random.rand()\n",
    "            nbc[j+'_0'][jj] = np.random.rand()\n",
    "    return nbc\n",
    "    \n",
    "def EM(X_Labeled,y_Labeled,X_Unlabeled,num_iters):\n",
    "\n",
    "    # initialize\n",
    "    \n",
    "    t = 0\n",
    "    \n",
    "    if len(y_Labeled) > 0:\n",
    "        nbc = trainNaiveBayesDiscrete(X_Labeled,y_Labeled)\n",
    "    else:\n",
    "        nbc = initializeNaiveBayesRandom(X_Unlabeled)\n",
    "    \n",
    "    while True:\n",
    "        t = t + 1\n",
    "        print 'Iteration',t,'of',num_iters\n",
    "        \n",
    "        # E step - classify with nbc for unlabeled data only\n",
    "        y_pred_Unlabeled = testNaiveBayesDiscrete(X_Unlabeled,nbc)\n",
    "        \n",
    "        # M step\n",
    "        X_for_M_step = pd.concat([X_Labeled,X_Unlabeled]) \n",
    "        y_for_M_step = pd.concat([y_Labeled,y_pred_Unlabeled])\n",
    "        X_for_M_step=X_for_M_step.reset_index()\n",
    "        X_for_M_step=X_for_M_step.drop(['index'],axis=1)\n",
    "        y_for_M_step=y_for_M_step.reset_index()\n",
    "        y_for_M_step=y_for_M_step.drop(['index'],axis=1)\n",
    "        prior = 1.*y_for_M_step.sum()/y_for_M_step.count()\n",
    "        nbc = {'prior':prior}\n",
    "        for j in X_for_M_step.columns:\n",
    "            nbc[j+'_1'] = {}\n",
    "            nbc[j+'_0'] = {}\n",
    "            for theindex in X_for_M_step.index:\n",
    "                current_X = X_for_M_step.loc[theindex,j]\n",
    "                current_y = y_for_M_step.loc[theindex]\n",
    "                \n",
    "                if current_X in nbc[j+'_1']:\n",
    "                    nbc[j+'_1'][current_X] += current_y\n",
    "                else:\n",
    "                    nbc[j+'_1'][current_X] = current_y\n",
    "                if current_X in nbc[j+'_0']:\n",
    "                    nbc[j+'_0'][current_X] += (1.0-current_y)\n",
    "                else:\n",
    "                    nbc[j+'_0'][current_X] = 1.0-current_y\n",
    "            # normalize probabilities\n",
    "            tempsum = 0.0\n",
    "            for k in nbc[j+'_1']:\n",
    "                tempsum += nbc[j+'_1'][k]\n",
    "            for k in nbc[j+'_1']:\n",
    "                nbc[j+'_1'][k] /= tempsum\n",
    "            tempsum = 0.0\n",
    "            for k in nbc[j+'_0']:\n",
    "                tempsum += nbc[j+'_0'][k]\n",
    "            for k in nbc[j+'_0']:\n",
    "                nbc[j+'_0'][k] /= tempsum            \n",
    "                       \n",
    "        if t==num_iters:\n",
    "            break\n",
    "            \n",
    "    return nbc"
   ]
  },
  {
   "cell_type": "code",
   "execution_count": 73,
   "metadata": {},
   "outputs": [],
   "source": [
    "X_Unlabeled_train=data_Unlabeled.drop('dead',axis=1)"
   ]
  },
  {
   "cell_type": "code",
   "execution_count": 74,
   "metadata": {},
   "outputs": [
    {
     "name": "stdout",
     "output_type": "stream",
     "text": [
      "Iteration 1 of 50\n"
     ]
    },
    {
     "ename": "KeyboardInterrupt",
     "evalue": "",
     "output_type": "error",
     "traceback": [
      "\u001b[0;31m---------------------------------------------------------------------------\u001b[0m",
      "\u001b[0;31mKeyboardInterrupt\u001b[0m                         Traceback (most recent call last)",
      "\u001b[0;32m<ipython-input-74-2c10e7b562dc>\u001b[0m in \u001b[0;36m<module>\u001b[0;34m()\u001b[0m\n\u001b[0;32m----> 1\u001b[0;31m \u001b[0mnaive_bayes_classifier\u001b[0m\u001b[0;34m=\u001b[0m\u001b[0mEM\u001b[0m\u001b[0;34m(\u001b[0m\u001b[0mX_Labeled_train\u001b[0m\u001b[0;34m,\u001b[0m\u001b[0my_Labeled_train\u001b[0m\u001b[0;34m,\u001b[0m\u001b[0mX_Unlabeled_train\u001b[0m\u001b[0;34m,\u001b[0m\u001b[0mnum_iters\u001b[0m\u001b[0;34m=\u001b[0m\u001b[0;36m50\u001b[0m\u001b[0;34m)\u001b[0m\u001b[0;34m\u001b[0m\u001b[0m\n\u001b[0m\u001b[1;32m      2\u001b[0m \u001b[0;32mfor\u001b[0m \u001b[0mi\u001b[0m\u001b[0;34m,\u001b[0m\u001b[0mj\u001b[0m \u001b[0;32min\u001b[0m \u001b[0mnaive_bayes_classifier\u001b[0m\u001b[0;34m.\u001b[0m\u001b[0mitems\u001b[0m\u001b[0;34m(\u001b[0m\u001b[0;34m)\u001b[0m\u001b[0;34m:\u001b[0m\u001b[0;34m\u001b[0m\u001b[0m\n\u001b[1;32m      3\u001b[0m     \u001b[0;32mprint\u001b[0m \u001b[0mi\u001b[0m\u001b[0;34m\u001b[0m\u001b[0m\n\u001b[1;32m      4\u001b[0m     \u001b[0;32mprint\u001b[0m \u001b[0mj\u001b[0m\u001b[0;34m\u001b[0m\u001b[0m\n\u001b[1;32m      5\u001b[0m     \u001b[0;32mprint\u001b[0m\u001b[0;34m\u001b[0m\u001b[0m\n",
      "\u001b[0;32m<ipython-input-68-e1e69d4d8912>\u001b[0m in \u001b[0;36mEM\u001b[0;34m(X_Labeled, y_Labeled, X_Unlabeled, num_iters)\u001b[0m\n\u001b[1;32m     49\u001b[0m                     \u001b[0mnbc\u001b[0m\u001b[0;34m[\u001b[0m\u001b[0mj\u001b[0m\u001b[0;34m+\u001b[0m\u001b[0;34m'_1'\u001b[0m\u001b[0;34m]\u001b[0m\u001b[0;34m[\u001b[0m\u001b[0mcurrent_X\u001b[0m\u001b[0;34m]\u001b[0m \u001b[0;34m=\u001b[0m \u001b[0mcurrent_y\u001b[0m\u001b[0;34m\u001b[0m\u001b[0m\n\u001b[1;32m     50\u001b[0m                 \u001b[0;32mif\u001b[0m \u001b[0mcurrent_X\u001b[0m \u001b[0;32min\u001b[0m \u001b[0mnbc\u001b[0m\u001b[0;34m[\u001b[0m\u001b[0mj\u001b[0m\u001b[0;34m+\u001b[0m\u001b[0;34m'_0'\u001b[0m\u001b[0;34m]\u001b[0m\u001b[0;34m:\u001b[0m\u001b[0;34m\u001b[0m\u001b[0m\n\u001b[0;32m---> 51\u001b[0;31m                     \u001b[0mnbc\u001b[0m\u001b[0;34m[\u001b[0m\u001b[0mj\u001b[0m\u001b[0;34m+\u001b[0m\u001b[0;34m'_0'\u001b[0m\u001b[0;34m]\u001b[0m\u001b[0;34m[\u001b[0m\u001b[0mcurrent_X\u001b[0m\u001b[0;34m]\u001b[0m \u001b[0;34m+=\u001b[0m \u001b[0;34m(\u001b[0m\u001b[0;36m1.0\u001b[0m\u001b[0;34m-\u001b[0m\u001b[0mcurrent_y\u001b[0m\u001b[0;34m)\u001b[0m\u001b[0;34m\u001b[0m\u001b[0m\n\u001b[0m\u001b[1;32m     52\u001b[0m                 \u001b[0;32melse\u001b[0m\u001b[0;34m:\u001b[0m\u001b[0;34m\u001b[0m\u001b[0m\n\u001b[1;32m     53\u001b[0m                     \u001b[0mnbc\u001b[0m\u001b[0;34m[\u001b[0m\u001b[0mj\u001b[0m\u001b[0;34m+\u001b[0m\u001b[0;34m'_0'\u001b[0m\u001b[0;34m]\u001b[0m\u001b[0;34m[\u001b[0m\u001b[0mcurrent_X\u001b[0m\u001b[0;34m]\u001b[0m \u001b[0;34m=\u001b[0m \u001b[0;36m1.0\u001b[0m\u001b[0;34m-\u001b[0m\u001b[0mcurrent_y\u001b[0m\u001b[0;34m\u001b[0m\u001b[0m\n",
      "\u001b[0;32m/Users/gerova/anaconda3/envs/py2/lib/python2.7/site-packages/pandas/core/ops.pyc\u001b[0m in \u001b[0;36mf\u001b[0;34m(self, other)\u001b[0m\n\u001b[1;32m    213\u001b[0m \u001b[0;34m\u001b[0m\u001b[0m\n\u001b[1;32m    214\u001b[0m         \u001b[0;32mdef\u001b[0m \u001b[0mf\u001b[0m\u001b[0;34m(\u001b[0m\u001b[0mself\u001b[0m\u001b[0;34m,\u001b[0m \u001b[0mother\u001b[0m\u001b[0;34m)\u001b[0m\u001b[0;34m:\u001b[0m\u001b[0;34m\u001b[0m\u001b[0m\n\u001b[0;32m--> 215\u001b[0;31m             \u001b[0mresult\u001b[0m \u001b[0;34m=\u001b[0m \u001b[0mmethod\u001b[0m\u001b[0;34m(\u001b[0m\u001b[0mself\u001b[0m\u001b[0;34m,\u001b[0m \u001b[0mother\u001b[0m\u001b[0;34m)\u001b[0m\u001b[0;34m\u001b[0m\u001b[0m\n\u001b[0m\u001b[1;32m    216\u001b[0m \u001b[0;34m\u001b[0m\u001b[0m\n\u001b[1;32m    217\u001b[0m             \u001b[0;31m# this makes sure that we are aligned like the input\u001b[0m\u001b[0;34m\u001b[0m\u001b[0;34m\u001b[0m\u001b[0m\n",
      "\u001b[0;32m/Users/gerova/anaconda3/envs/py2/lib/python2.7/site-packages/pandas/core/ops.pyc\u001b[0m in \u001b[0;36mwrapper\u001b[0;34m(left, right, name, na_op)\u001b[0m\n\u001b[1;32m    725\u001b[0m             \u001b[0mindex\u001b[0m\u001b[0;34m=\u001b[0m\u001b[0mleft\u001b[0m\u001b[0;34m.\u001b[0m\u001b[0mindex\u001b[0m\u001b[0;34m,\u001b[0m\u001b[0;34m\u001b[0m\u001b[0m\n\u001b[1;32m    726\u001b[0m             \u001b[0mname\u001b[0m\u001b[0;34m=\u001b[0m\u001b[0mname\u001b[0m\u001b[0;34m,\u001b[0m\u001b[0;34m\u001b[0m\u001b[0m\n\u001b[0;32m--> 727\u001b[0;31m             \u001b[0mdtype\u001b[0m\u001b[0;34m=\u001b[0m\u001b[0mdtype\u001b[0m\u001b[0;34m,\u001b[0m\u001b[0;34m\u001b[0m\u001b[0m\n\u001b[0m\u001b[1;32m    728\u001b[0m         )\n\u001b[1;32m    729\u001b[0m \u001b[0;34m\u001b[0m\u001b[0m\n",
      "\u001b[0;32m/Users/gerova/anaconda3/envs/py2/lib/python2.7/site-packages/pandas/core/ops.pyc\u001b[0m in \u001b[0;36m_construct_result\u001b[0;34m(left, result, index, name, dtype)\u001b[0m\n\u001b[1;32m    633\u001b[0m \u001b[0;34m\u001b[0m\u001b[0m\n\u001b[1;32m    634\u001b[0m \u001b[0;32mdef\u001b[0m \u001b[0m_construct_result\u001b[0m\u001b[0;34m(\u001b[0m\u001b[0mleft\u001b[0m\u001b[0;34m,\u001b[0m \u001b[0mresult\u001b[0m\u001b[0;34m,\u001b[0m \u001b[0mindex\u001b[0m\u001b[0;34m,\u001b[0m \u001b[0mname\u001b[0m\u001b[0;34m,\u001b[0m \u001b[0mdtype\u001b[0m\u001b[0;34m)\u001b[0m\u001b[0;34m:\u001b[0m\u001b[0;34m\u001b[0m\u001b[0m\n\u001b[0;32m--> 635\u001b[0;31m     \u001b[0;32mreturn\u001b[0m \u001b[0mleft\u001b[0m\u001b[0;34m.\u001b[0m\u001b[0m_constructor\u001b[0m\u001b[0;34m(\u001b[0m\u001b[0mresult\u001b[0m\u001b[0;34m,\u001b[0m \u001b[0mindex\u001b[0m\u001b[0;34m=\u001b[0m\u001b[0mindex\u001b[0m\u001b[0;34m,\u001b[0m \u001b[0mname\u001b[0m\u001b[0;34m=\u001b[0m\u001b[0mname\u001b[0m\u001b[0;34m,\u001b[0m \u001b[0mdtype\u001b[0m\u001b[0;34m=\u001b[0m\u001b[0mdtype\u001b[0m\u001b[0;34m)\u001b[0m\u001b[0;34m\u001b[0m\u001b[0m\n\u001b[0m\u001b[1;32m    636\u001b[0m \u001b[0;34m\u001b[0m\u001b[0m\n\u001b[1;32m    637\u001b[0m \u001b[0;34m\u001b[0m\u001b[0m\n",
      "\u001b[0;32m/Users/gerova/anaconda3/envs/py2/lib/python2.7/site-packages/pandas/core/series.pyc\u001b[0m in \u001b[0;36m__init__\u001b[0;34m(self, data, index, dtype, name, copy, fastpath)\u001b[0m\n\u001b[1;32m    246\u001b[0m             \u001b[0;32melse\u001b[0m\u001b[0;34m:\u001b[0m\u001b[0;34m\u001b[0m\u001b[0m\n\u001b[1;32m    247\u001b[0m                 data = _sanitize_array(data, index, dtype, copy,\n\u001b[0;32m--> 248\u001b[0;31m                                        raise_cast_failure=True)\n\u001b[0m\u001b[1;32m    249\u001b[0m \u001b[0;34m\u001b[0m\u001b[0m\n\u001b[1;32m    250\u001b[0m                 \u001b[0mdata\u001b[0m \u001b[0;34m=\u001b[0m \u001b[0mSingleBlockManager\u001b[0m\u001b[0;34m(\u001b[0m\u001b[0mdata\u001b[0m\u001b[0;34m,\u001b[0m \u001b[0mindex\u001b[0m\u001b[0;34m,\u001b[0m \u001b[0mfastpath\u001b[0m\u001b[0;34m=\u001b[0m\u001b[0mTrue\u001b[0m\u001b[0;34m)\u001b[0m\u001b[0;34m\u001b[0m\u001b[0m\n",
      "\u001b[0;32m/Users/gerova/anaconda3/envs/py2/lib/python2.7/site-packages/pandas/core/series.pyc\u001b[0m in \u001b[0;36m_sanitize_array\u001b[0;34m(data, index, dtype, copy, raise_cast_failure)\u001b[0m\n\u001b[1;32m   2950\u001b[0m             \u001b[0msubarr\u001b[0m \u001b[0;34m=\u001b[0m \u001b[0m_sanitize_index\u001b[0m\u001b[0;34m(\u001b[0m\u001b[0mdata\u001b[0m\u001b[0;34m,\u001b[0m \u001b[0mindex\u001b[0m\u001b[0;34m,\u001b[0m \u001b[0mcopy\u001b[0m\u001b[0;34m=\u001b[0m\u001b[0mTrue\u001b[0m\u001b[0;34m)\u001b[0m\u001b[0;34m\u001b[0m\u001b[0m\n\u001b[1;32m   2951\u001b[0m         \u001b[0;32melse\u001b[0m\u001b[0;34m:\u001b[0m\u001b[0;34m\u001b[0m\u001b[0m\n\u001b[0;32m-> 2952\u001b[0;31m             \u001b[0msubarr\u001b[0m \u001b[0;34m=\u001b[0m \u001b[0m_try_cast\u001b[0m\u001b[0;34m(\u001b[0m\u001b[0mdata\u001b[0m\u001b[0;34m,\u001b[0m \u001b[0mTrue\u001b[0m\u001b[0;34m)\u001b[0m\u001b[0;34m\u001b[0m\u001b[0m\n\u001b[0m\u001b[1;32m   2953\u001b[0m \u001b[0;34m\u001b[0m\u001b[0m\n\u001b[1;32m   2954\u001b[0m         \u001b[0;32mif\u001b[0m \u001b[0mcopy\u001b[0m\u001b[0;34m:\u001b[0m\u001b[0;34m\u001b[0m\u001b[0m\n",
      "\u001b[0;31mKeyboardInterrupt\u001b[0m: "
     ]
    }
   ],
   "source": [
    "naive_bayes_classifier=EM(X_Labeled_train,y_Labeled_train,X_Unlabeled_train,num_iters=50)\n",
    "for i,j in naive_bayes_classifier.items():\n",
    "    print i\n",
    "    print j\n",
    "    print\n",
    "y_pred_test = testNaiveBayesDiscrete(X_Labeled_test,naive_bayes_classifier)"
   ]
  },
  {
   "cell_type": "code",
   "execution_count": 75,
   "metadata": {},
   "outputs": [
    {
     "data": {
      "text/plain": [
       "149177    4.644440e-10\n",
       "251309    1.465731e-08\n",
       "50274     6.932712e-09\n",
       "249904    1.228484e-09\n",
       "79819     6.689839e-15\n",
       "209006    1.176049e-08\n",
       "24411     6.779413e-08\n",
       "1684      1.059304e-11\n",
       "64112     6.297467e-13\n",
       "91001     6.689079e-10\n",
       "212103    2.778372e-09\n",
       "79344     6.742502e-07\n",
       "154747    4.968691e-10\n",
       "186620    2.861094e-08\n",
       "24218     6.481891e-08\n",
       "47981     1.396863e-02\n",
       "101514    2.263704e-08\n",
       "26104     7.431658e-13\n",
       "75134     4.470063e-13\n",
       "154717    1.154633e-07\n",
       "163260    2.469235e-07\n",
       "34689     1.921802e-06\n",
       "217111    1.753526e-08\n",
       "52419     1.106961e-04\n",
       "65282     7.787655e-09\n",
       "103707    4.364256e-09\n",
       "41678     6.998819e-08\n",
       "50472     3.383089e-14\n",
       "24619     1.285360e-06\n",
       "233939    3.784551e-08\n",
       "              ...     \n",
       "9910      6.992948e-09\n",
       "128147    3.982240e-12\n",
       "227875    2.517341e-09\n",
       "64960     1.063984e-15\n",
       "218137    8.690598e-10\n",
       "164733    5.489864e-08\n",
       "112391    6.984658e-07\n",
       "185043    2.723667e-08\n",
       "233363    1.512910e-10\n",
       "127056    1.051055e-03\n",
       "84727     1.022236e-07\n",
       "193960    4.795452e-08\n",
       "156422    1.898581e-06\n",
       "237107    1.452647e-12\n",
       "165997    8.608888e-07\n",
       "112247    2.284203e-14\n",
       "103134    3.159647e-03\n",
       "248085    3.679200e-09\n",
       "29119     1.571191e-05\n",
       "186958    6.265279e-08\n",
       "75352     4.532255e-11\n",
       "159133    3.177593e-08\n",
       "184336    6.198059e-12\n",
       "158722    5.533647e-08\n",
       "200488    5.819035e-07\n",
       "222668    2.447436e-09\n",
       "32135     1.077301e-11\n",
       "206905    7.449362e-09\n",
       "167024    4.627118e-06\n",
       "2422      1.643383e-09\n",
       "Length: 10153, dtype: float64"
      ]
     },
     "execution_count": 75,
     "metadata": {},
     "output_type": "execute_result"
    }
   ],
   "source": [
    "y_pred_test"
   ]
  },
  {
   "cell_type": "code",
   "execution_count": null,
   "metadata": {},
   "outputs": [],
   "source": []
  }
 ],
 "metadata": {
  "kernelspec": {
   "display_name": "Python 2",
   "language": "python",
   "name": "python2"
  },
  "language_info": {
   "codemirror_mode": {
    "name": "ipython",
    "version": 2
   },
   "file_extension": ".py",
   "mimetype": "text/x-python",
   "name": "python",
   "nbconvert_exporter": "python",
   "pygments_lexer": "ipython2",
   "version": "2.7.14"
  }
 },
 "nbformat": 4,
 "nbformat_minor": 2
}
